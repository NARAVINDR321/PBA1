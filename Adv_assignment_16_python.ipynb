{
 "cells": [
  {
   "cell_type": "markdown",
   "metadata": {},
   "source": [
    "# Advanced Assignment 16"
   ]
  },
  {
   "cell_type": "markdown",
   "metadata": {},
   "source": [
    "Q.1.\n",
    "\n",
    "Regular expressions are beneficial for checking if strings follow a certain pattern and to extract important information from it. They are faster than doing string checking in python. e.g. we can check if an email address or a url is of a valid format, we can check networking data formats etc.\n",
    "\n",
    "Q.2.\n",
    "\n",
    "(ab)c+\n",
    "\n",
    "Here ab is a group. The + after the \"c\" means the regex will check for 1 or more occurences of c.\n",
    "\n",
    "a(bc)+\n",
    "\n",
    "Here a is the first character to be matched. bc is a group. Since the + is present after the bc group, the regex will check for 1 or more occurences of bc.\n",
    "\n",
    "abc+ will also check for ab first and then 1 or more occurences of c, just like (ab)c+. The only difference is that ab is not a group and cannot be referred as one.\n"
   ]
  },
  {
   "cell_type": "code",
   "execution_count": 1,
   "metadata": {},
   "outputs": [],
   "source": [
    "import re"
   ]
  },
  {
   "cell_type": "code",
   "execution_count": 2,
   "metadata": {},
   "outputs": [],
   "source": [
    "re1 = re.compile(r\"(ab)c+\")\n",
    "re2 = re.compile(r\"a(bc)+\")\n",
    "re3 = re.compile(r\"abc+\")"
   ]
  },
  {
   "cell_type": "code",
   "execution_count": 3,
   "metadata": {},
   "outputs": [],
   "source": [
    "l = [\"abcc\", \"abcbcbc\"]"
   ]
  },
  {
   "cell_type": "code",
   "execution_count": 4,
   "metadata": {},
   "outputs": [
    {
     "name": "stdout",
     "output_type": "stream",
     "text": [
      "Match re1:  <re.Match object; span=(0, 4), match='abcc'>\n",
      "Match re2:  <re.Match object; span=(0, 3), match='abc'>\n",
      "Match re3:  <re.Match object; span=(0, 4), match='abcc'>\n",
      "Match re1:  <re.Match object; span=(0, 3), match='abc'>\n",
      "Match re2:  <re.Match object; span=(0, 7), match='abcbcbc'>\n",
      "Match re3:  <re.Match object; span=(0, 3), match='abc'>\n"
     ]
    }
   ],
   "source": [
    "for x in l:\n",
    "    print(\"Match re1: \", re1.match(x).)\n",
    "    print(\"Match re2: \", re2.match(x))\n",
    "    print(\"Match re3: \", re3.match(x))"
   ]
  },
  {
   "cell_type": "markdown",
   "metadata": {},
   "source": [
    "Q.3.\n",
    "\n",
    "We have to import re module just once\n",
    "\n",
    "Q.4.\n",
    "\n",
    "A range can be defined inside a character set as [A-Z]. Here \"-\" acts like a special character.\n",
    "\n",
    "Q.5.\n",
    "\n",
    "Compiling a regex improves performance when the same regex needs to be used repeatedly.\n",
    "\n",
    "Q.6.\n",
    "\n",
    "The match object has several functions. e.g. group() returns the matched string. We can use the span() function to get the starting and ending indices of the matched string. If the regex contains groups, then we can get each subgroup by providing arguments in the group() function.\n",
    "\n",
    "Q.7.\n",
    "\n",
    "A character set matches just one character out of the ones provided within it.\n",
    "\n",
    "[ABC123] will match a single character out of A, B, C, 1, 2, 3\n",
    "\n",
    "But ABC|123 will match either \"ABC\" or \"123\"\n",
    "\n",
    "Q.8.\n",
    "\n",
    "Without the raw string notation, a string with a \"\\\" can be matched by using \"\\\\\\\\\". This is because a Python string with \"\\\" needs an escape character \"\\\" to be read correctly. After passing this string to the regex compiler, it also needs a \"\\\" escape character for each of the \"\\\" present in the Python string.\n",
    "\n",
    "To prevent this, we use raw strings. A raw string is read exactly as it is inside a Python string. This helps us avoid the backslash problem. So instead of \"\\\\\\\\\", we can use \"\\\\\", because only the regex compilation requires the escape character."
   ]
  },
  {
   "cell_type": "code",
   "execution_count": null,
   "metadata": {},
   "outputs": [],
   "source": []
  }
 ],
 "metadata": {
  "kernelspec": {
   "display_name": "Python 3",
   "language": "python",
   "name": "python3"
  },
  "language_info": {
   "codemirror_mode": {
    "name": "ipython",
    "version": 3
   },
   "file_extension": ".py",
   "mimetype": "text/x-python",
   "name": "python",
   "nbconvert_exporter": "python",
   "pygments_lexer": "ipython3",
   "version": "3.8.5"
  }
 },
 "nbformat": 4,
 "nbformat_minor": 4
}
