{
 "cells": [
  {
   "cell_type": "markdown",
   "metadata": {},
   "source": [
    "# Assignment 10"
   ]
  },
  {
   "cell_type": "markdown",
   "metadata": {},
   "source": [
    "Q.1.\n",
    "\n",
    "shutil.copy copies a single file to the destination while shutil.copytree will copy a folder and all its folders and sub folders and their files within it to the destination\n",
    "\n",
    "Q.2.\n",
    "\n",
    "shutil.move(oldname, newname)\n",
    "\n",
    "Calling shutil.move(source, destination) will move the file or folder at the path source to the path destination and will return a string of the absolute path of the new location.\n",
    "\n",
    "Q.3.\n",
    "\n",
    "shutil module's rmtree function deletes a folder and all its sub folders and files permanently. send2trash module has a function called send2trash which deletes a folder by sending it to the recycle bin, so that can be recovered later if required.\n",
    "\n",
    "Q.4.\n",
    "\n",
    "A zipped file is a ZipFile object. To get information about a file inside the ZipFile object, we use the getinfo method, which returns a ZipInfo object. To extract files from a ZipFile, we use extractall method.\n",
    "\n",
    "Optionally, you can pass a folder name to extractall() to have it extract the files into a folder other than the current working directory. If the folder passed to the extractall() method does not exist, it will be created. \n",
    "\n",
    "Q.5.\n",
    "\n"
   ]
  },
  {
   "cell_type": "code",
   "execution_count": 1,
   "metadata": {},
   "outputs": [],
   "source": [
    "import os\n",
    "import shutil\n",
    "import re"
   ]
  },
  {
   "cell_type": "code",
   "execution_count": 2,
   "metadata": {},
   "outputs": [
    {
     "name": "stdout",
     "output_type": "stream",
     "text": [
      "Directory Structure\n",
      "\n"
     ]
    }
   ],
   "source": [
    "print(\"Directory Structure\\n\")\n",
    "\n",
    "for f in os.walk(\"assignment10q5\"):\n",
    "\n",
    "    print(\"folder:\", f[0])\n",
    "    print(\"sub folders inside it:\", f[1])\n",
    "    print(\"files inside it:\", f[2])\n",
    "    print(\"\\n\")"
   ]
  },
  {
   "cell_type": "code",
   "execution_count": 29,
   "metadata": {},
   "outputs": [],
   "source": [
    "regex = re.compile(r\".*\\.pdf$\")"
   ]
  },
  {
   "cell_type": "code",
   "execution_count": 47,
   "metadata": {},
   "outputs": [],
   "source": [
    "for f in os.walk(\"assignment10q5\"):\n",
    "    \n",
    "    if not os.path.exists(os.path.join(\"newdesta10q5\",f[0])):\n",
    "        os.mkdir(os.path.join(\"newdesta10q5\",f[0]))\n",
    "    \n",
    "    for file in f[2]:\n",
    "        if regex.match(file):\n",
    "            if not os.path.exists(\"newdesta10q5/\"+f[0] + \"/\" + file):\n",
    "                shutil.copy(f[0] + \"/\" + file, \"newdesta10q5/\"+f[0] + \"/\" + file)\n",
    "        "
   ]
  },
  {
   "cell_type": "code",
   "execution_count": 48,
   "metadata": {},
   "outputs": [
    {
     "name": "stdout",
     "output_type": "stream",
     "text": [
      "New Directory Structure\n",
      "\n",
      "folder: newdesta10q5/assignment10q5\n",
      "sub folders inside it: ['some_folder']\n",
      "files inside it: ['abc.pdf', 'ghi.pdf']\n",
      "\n",
      "\n",
      "folder: newdesta10q5/assignment10q5\\some_folder\n",
      "sub folders inside it: []\n",
      "files inside it: ['def.pdf']\n",
      "\n",
      "\n"
     ]
    }
   ],
   "source": [
    "print(\"New Directory Structure\\n\")\n",
    "\n",
    "for f in os.walk(\"newdesta10q5/assignment10q5\"):\n",
    "\n",
    "    print(\"folder:\", f[0])\n",
    "    print(\"sub folders inside it:\", f[1])\n",
    "    print(\"files inside it:\", f[2])\n",
    "    print(\"\\n\")"
   ]
  },
  {
   "cell_type": "code",
   "execution_count": null,
   "metadata": {},
   "outputs": [],
   "source": []
  }
 ],
 "metadata": {
  "kernelspec": {
   "display_name": "Python 3 (ipykernel)",
   "language": "python",
   "name": "python3"
  },
  "language_info": {
   "codemirror_mode": {
    "name": "ipython",
    "version": 3
   },
   "file_extension": ".py",
   "mimetype": "text/x-python",
   "name": "python",
   "nbconvert_exporter": "python",
   "pygments_lexer": "ipython3",
   "version": "3.9.7"
  }
 },
 "nbformat": 4,
 "nbformat_minor": 4
}
