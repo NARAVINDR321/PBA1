{
 "cells": [
  {
   "cell_type": "markdown",
   "metadata": {},
   "source": [
    "# Advanced Assignment 18"
   ]
  },
  {
   "cell_type": "markdown",
   "metadata": {},
   "source": [
    "Q.1.\n",
    "\n",
    "A text file stores data in a human-readable format. It stores alphabet letters, numbers and special characters according to their ASCII values.\n",
    "\n",
    "A binary file stores data in a non human-readable format. It stores a sequence of bytes.\n",
    "\n",
    "Q.2.\n",
    "\n",
    "Text files are useful when we want humans to be able to read the data. It is also easier to correct errors in text files.\n",
    "\n",
    "Binary files provide a layer of security as they are not human-readable. Also, in text files, each digit of a number is considered as a character and stored as 1 byte. So, even though an integer should occupy 4 bytes, a number 12432 in a text file will consume 5 * 1 byte treating each digit as a character. Instead, a binary file will store exactly 4 bytes for an integer. So it is more memory-efficient."
   ]
  },
  {
   "cell_type": "markdown",
   "metadata": {},
   "source": [
    "Q.4.\n",
    "\n",
    "When opened using the \"with\" keyword, the file is automatically closed at the end of the \"with\" block.\n",
    "\n",
    "Q.5.\n",
    "\n",
    "Trailing newline is not included when reading input. Trailing newline is added when writing to output.\n"
   ]
  },
  {
   "cell_type": "code",
   "execution_count": 8,
   "metadata": {},
   "outputs": [
    {
     "name": "stdout",
     "output_type": "stream",
     "text": [
      "Enter some input: abc\n"
     ]
    }
   ],
   "source": [
    "s1 = input(\"Enter some input: \")"
   ]
  },
  {
   "cell_type": "code",
   "execution_count": 9,
   "metadata": {},
   "outputs": [
    {
     "data": {
      "text/plain": [
       "'abc'"
      ]
     },
     "execution_count": 9,
     "metadata": {},
     "output_type": "execute_result"
    }
   ],
   "source": [
    "s1"
   ]
  },
  {
   "cell_type": "code",
   "execution_count": 10,
   "metadata": {},
   "outputs": [
    {
     "name": "stdout",
     "output_type": "stream",
     "text": [
      "abc\n"
     ]
    }
   ],
   "source": [
    "s = input()"
   ]
  },
  {
   "cell_type": "code",
   "execution_count": 11,
   "metadata": {},
   "outputs": [
    {
     "data": {
      "text/plain": [
       "'abc'"
      ]
     },
     "execution_count": 11,
     "metadata": {},
     "output_type": "execute_result"
    }
   ],
   "source": [
    "s"
   ]
  },
  {
   "cell_type": "code",
   "execution_count": 12,
   "metadata": {},
   "outputs": [
    {
     "data": {
      "text/plain": [
       "True"
      ]
     },
     "execution_count": 12,
     "metadata": {},
     "output_type": "execute_result"
    }
   ],
   "source": [
    "s == s1"
   ]
  },
  {
   "cell_type": "markdown",
   "metadata": {},
   "source": [
    "Q.6.\n",
    "\n",
    "For random access operation, we can use seek() and tell() functions. The tell() returns the current position. The seek() can change the position to the displacement provided in the argument.\n",
    "\n",
    "Q.7.\n",
    "\n",
    "struct package is used for converting between python values and C structs. It is used to pack values into a bytes object and to get back the values by unpackingthe bytes object. Packing values into bytes object can improve performance of an application.\n",
    "\n",
    "Q.8.\n",
    "\n",
    "\n",
    "Pickle module is used for serialization and deserialization in Python. It is not restricted by external standards like xml and json. Instead, it is Python-specific. It can store compound objects easily.\n",
    "\n",
    "Q.9.\n",
    "\n",
    "The shelve module is used for persistent storage of objects. It can store compound objects like lists and dictionaries as well. If we want to store such objects in a database, we can use the shelve module.\n",
    "\n",
    "Q.10.\n",
    "\n",
    "Files from only trusted sources should be loaded using the shelve module, as it is insecure and can execute arbitrary code."
   ]
  }
 ],
 "metadata": {
  "kernelspec": {
   "display_name": "Python 3",
   "language": "python",
   "name": "python3"
  },
  "language_info": {
   "codemirror_mode": {
    "name": "ipython",
    "version": 3
   },
   "file_extension": ".py",
   "mimetype": "text/x-python",
   "name": "python",
   "nbconvert_exporter": "python",
   "pygments_lexer": "ipython3",
   "version": "3.8.5"
  }
 },
 "nbformat": 4,
 "nbformat_minor": 4
}
