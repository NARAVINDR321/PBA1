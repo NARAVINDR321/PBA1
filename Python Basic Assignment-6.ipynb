{
 "cells": [
  {
   "cell_type": "markdown",
   "metadata": {},
   "source": [
    "# Assignment 6\n",
    "\n",
    "1.\n",
    "\n",
    "Escape characters represent characters in string values that would otherwise be difficult or impossible to type into code\n",
    "\n",
    "\n"
   ]
  },
  {
   "cell_type": "code",
   "execution_count": 1,
   "metadata": {},
   "outputs": [
    {
     "name": "stdout",
     "output_type": "stream",
     "text": [
      "She asked, \"What are you doing?\"\n"
     ]
    }
   ],
   "source": [
    "s = \"She asked, \\\"What are you doing?\\\"\"\n",
    "print(s)"
   ]
  },
  {
   "cell_type": "markdown",
   "metadata": {},
   "source": [
    "2.\n",
    "\n",
    "\\n is a newline; \\t is a tab."
   ]
  },
  {
   "cell_type": "code",
   "execution_count": null,
   "metadata": {},
   "outputs": [],
   "source": []
  },
  {
   "cell_type": "markdown",
   "metadata": {},
   "source": [
    "3.\n",
    "\n",
    "The \\\\ escape character will represent a backslash character.\n",
    "\n",
    "To include a backslash character, we have to insert another backslash character before it."
   ]
  },
  {
   "cell_type": "code",
   "execution_count": null,
   "metadata": {},
   "outputs": [],
   "source": []
  },
  {
   "cell_type": "markdown",
   "metadata": {},
   "source": [
    "4.\n",
    "\n",
    "The single quote in Howl's is fine because you’ve used double quotes to mark the beginning and end of the string.\n",
    "\n",
    "\n",
    "In this case, the string is enclosed with double quotes. So a single quote can be used directly without a back slash. Since the opening quote was a double quote, the string will be closed only with a double quote.\n"
   ]
  },
  {
   "cell_type": "markdown",
   "metadata": {},
   "source": [
    "6.\n",
    "\n",
    "The values returned by the expressions are:\n",
    "\n",
    "'e'\n",
    "\n",
    "'Hello'\n",
    "\n",
    "'Hello'\n",
    "\n",
    "'lo, world!'\n",
    "\n",
    "7.\n",
    "\n",
    "The values returned by the expressions are:\n",
    "\n",
    "'HELLO'\n",
    "\n",
    "True\n",
    "\n",
    "'hello'\n",
    "\n",
    "8.\n",
    "\n",
    "The values returned by the expressions are:\n",
    "\n",
    "['Remember,', 'remember,', 'the', 'fifth', 'of', 'July']\n",
    "\n",
    "'There-can-only-one.'\n",
    "\n",
    "9.\n",
    "\n",
    "Right justify - str.rjust()\n",
    "\n",
    "Left justify - str.ljust()\n",
    "\n",
    "Center justify - str.center()\n",
    "\n",
    "10.\n",
    "\n",
    "The lstrip() and rstrip() methods remove whitespace from the left and right ends of a string, respectively."
   ]
  },
  {
   "cell_type": "code",
   "execution_count": null,
   "metadata": {},
   "outputs": [],
   "source": []
  }
 ],
 "metadata": {
  "kernelspec": {
   "display_name": "Python 3 (ipykernel)",
   "language": "python",
   "name": "python3"
  },
  "language_info": {
   "codemirror_mode": {
    "name": "ipython",
    "version": 3
   },
   "file_extension": ".py",
   "mimetype": "text/x-python",
   "name": "python",
   "nbconvert_exporter": "python",
   "pygments_lexer": "ipython3",
   "version": "3.9.7"
  }
 },
 "nbformat": 4,
 "nbformat_minor": 4
}
