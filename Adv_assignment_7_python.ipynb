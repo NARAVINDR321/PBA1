{
 "cells": [
  {
   "cell_type": "markdown",
   "metadata": {},
   "source": [
    "# Advanced Assignment 7"
   ]
  },
  {
   "cell_type": "markdown",
   "metadata": {},
   "source": [
    "Q.1.\n",
    "\n",
    "The purpose of the try statement is to include within it code blocks that can potentially raise exceptions. The try block let's the program execute and if an exception arises, it then transfers the execution to the except statement, provided the same exception was raised.\n",
    "\n",
    "Q.2.\n",
    "\n",
    "try can be used with multiple except statements\n",
    "\n",
    "Q.3.\n",
    "\n",
    "The raise statement can raise exceptions as required by the programmer. \n",
    "\n",
    "Q.4.\n",
    "\n",
    "The assert statement checks whether a certain condition is true. If not, it raises an AssertionError.\n",
    "\n",
    "Q.5.\n",
    "\n",
    "The with-as statements are used to handle unmanaged resources automatically. e.g. file streams are automatically closed if opened using with-as statement."
   ]
  }
 ],
 "metadata": {
  "kernelspec": {
   "display_name": "Python 3",
   "language": "python",
   "name": "python3"
  },
  "language_info": {
   "codemirror_mode": {
    "name": "ipython",
    "version": 3
   },
   "file_extension": ".py",
   "mimetype": "text/x-python",
   "name": "python",
   "nbconvert_exporter": "python",
   "pygments_lexer": "ipython3",
   "version": "3.8.5"
  }
 },
 "nbformat": 4,
 "nbformat_minor": 4
}
