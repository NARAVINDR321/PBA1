{
 "cells": [
  {
   "cell_type": "markdown",
   "metadata": {},
   "source": [
    "# Python Basic Assignment 9"
   ]
  },
  {
   "cell_type": "code",
   "execution_count": 1,
   "metadata": {},
   "outputs": [],
   "source": [
    "import os"
   ]
  },
  {
   "cell_type": "markdown",
   "metadata": {},
   "source": [
    "Q.1.\n",
    "\n",
    "Relative paths are relative to the current working directory.\n",
    "\n",
    "A relative path is the path to a directory or file from the current working directory.\n",
    "\n",
    "Q.2.\n",
    "\n",
    "Absolute paths start with the root folder, such as / or C:\\.\n",
    "\n",
    "An absolute path starts with a backslash. An absolute path is consistent irrespective of whatever the current working directory is.\n",
    "\n",
    "Q.3.\n",
    "\n",
    "The os.getcwd() function returns the current working directory. The os.chdir() function changes the current working directory.\n",
    "\n",
    "os.getcwd() returns the absolute path of the current working directory\n",
    "\n",
    "os.chdir() is used to change the current working directory to the path provided by the argument passed.\n",
    "\n",
    "Q.4.\n",
    "\n",
    "The . folder is the current folder, and .. is the parent folder.\n",
    "\n",
    ". refers to the current working directory\n",
    "\n",
    ".. refers to the parent directory of current working directory\n",
    "\n",
    "Q.5.\n",
    "\n",
    "C:\\bacon\\eggs is the dir name, while spam.txt is the base name.\n",
    "\n",
    "dir name is C:\\bacon\\eggs\\\n",
    "basename is spam.txt"
   ]
  },
  {
   "cell_type": "code",
   "execution_count": null,
   "metadata": {},
   "outputs": [],
   "source": []
  },
  {
   "cell_type": "markdown",
   "metadata": {},
   "source": [
    "Q.6.\n",
    "\n",
    "The built-in open function has the following modes\n",
    "\n",
    "The string 'r' for read mode, 'w' for write mode, and 'a' for append mode\n",
    "\n",
    "\n",
    "Q.7.\n",
    "\n",
    "An existing file opened in write mode is erased and completely overwritten.\n",
    "\n",
    "An already existing file can be opened in \"w\" mode without any errors. While writing using the write method, the previous content is overwritten by the newly given text from the write's argument.\n",
    "\n",
    "Q.8.\n",
    "\n",
    "The read() method returns the file’s entire contents as a single string value. The readlines() method returns a list of strings, where each string is a line from the file’s contents.\n",
    "\n",
    "\n",
    "readlines() function returns a list of strings corresponding to each line of the file.\n",
    "\n",
    "Q.9.\n",
    "\n",
    "A shelf value resembles a dictionary value; it has keys and values, along with keys() and values() methods that work similarly to the dictionary methods of the same names.\n",
    "\n",
    "shelve is like the dictionary data structure. It is persistent form of storage that lets your data persist even after your program is closed. The data is stored on a disk."
   ]
  },
  {
   "cell_type": "code",
   "execution_count": null,
   "metadata": {},
   "outputs": [],
   "source": []
  }
 ],
 "metadata": {
  "kernelspec": {
   "display_name": "Python 3 (ipykernel)",
   "language": "python",
   "name": "python3"
  },
  "language_info": {
   "codemirror_mode": {
    "name": "ipython",
    "version": 3
   },
   "file_extension": ".py",
   "mimetype": "text/x-python",
   "name": "python",
   "nbconvert_exporter": "python",
   "pygments_lexer": "ipython3",
   "version": "3.9.7"
  }
 },
 "nbformat": 4,
 "nbformat_minor": 4
}
