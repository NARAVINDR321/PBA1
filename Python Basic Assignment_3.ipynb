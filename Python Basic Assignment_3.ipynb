{
 "cells": [
  {
   "cell_type": "markdown",
   "metadata": {},
   "source": [
    "# Assignment 3\n",
    "\n",
    "1.\n",
    "\n",
    "Functions reduce the need for duplicate code. This makes programs shorter, easier to read, and easier to update. ... A function call is what moves the program execution into the function, and the function call evaluates to the function's return value.\n",
    "\n",
    "Functions prevents repetition as the same block of code doesn’t have to be written twice and can be made into a function. It also makes things conceptually easier to understand and the code more readable and compact.\n",
    "\n",
    "2.when it is called:\n",
    "\n",
    "The code in a function runs when it is called\n",
    "\n",
    "3.\n",
    "\n",
    "Function is created using the def keyword e.g."
   ]
  },
  {
   "cell_type": "code",
   "execution_count": 4,
   "metadata": {},
   "outputs": [],
   "source": [
    "def function():\n",
    "    print('new_function called')"
   ]
  },
  {
   "cell_type": "markdown",
   "metadata": {},
   "source": [
    "4.\n",
    "A function call means invoking or calling that function. Unless a function is called there is no use of that function. ... So the difference between the function and function call is, A function is procedure to achieve a particular result while function call is using this function to achive that task\n",
    "\n",
    "The code mentioned in the above cell is the definition of the function 'some_function'. It defines what the function will do when it will be called. A function call is when the code inside the function is executed. e.g. -"
   ]
  },
  {
   "cell_type": "code",
   "execution_count": 5,
   "metadata": {},
   "outputs": [
    {
     "name": "stdout",
     "output_type": "stream",
     "text": [
      "some_function called\n"
     ]
    }
   ],
   "source": [
    "some_function()"
   ]
  },
  {
   "cell_type": "markdown",
   "metadata": {},
   "source": [
    "5.There's only one global Python scope per program execution. This scope remains in existence until the program terminates and all its names are forgotten. Otherwise, the next time you were to run the program, the names would remember their values from the previous run\n",
    "\n",
    "\n",
    "\n",
    "6.\n",
    "\n",
    "A local variable inside a function has a scope within the function only. Outside the function, it is not defined and holds no meaning.\n",
    "\n",
    "7.\n",
    "\n",
    "A return value of a function is the value that the function gives as a result of the code inside the function. An expression also returns a value . e.g. the expression 5+8 returns the value 13. Example of return value of a function -"
   ]
  },
  {
   "cell_type": "code",
   "execution_count": 2,
   "metadata": {},
   "outputs": [
    {
     "name": "stdout",
     "output_type": "stream",
     "text": [
      "Returned Value from fn: 6.4\n"
     ]
    }
   ],
   "source": [
    "def func_with_return_val():\n",
    "    return (2*32)/10\n",
    "\n",
    "r_value = func_with_return_val()\n",
    "print('Returned Value from fn:', r_value)"
   ]
  },
  {
   "cell_type": "markdown",
   "metadata": {},
   "source": [
    "8.\n",
    "\n",
    "A function that does not have a return statement returns the value 'None' whose data type is NoneType, as shown below:"
   ]
  },
  {
   "cell_type": "code",
   "execution_count": 3,
   "metadata": {},
   "outputs": [
    {
     "name": "stdout",
     "output_type": "stream",
     "text": [
      "Executing func_without_ret_val\n",
      "Returned Value: None\n"
     ]
    }
   ],
   "source": [
    "def func_without_ret_val():\n",
    "    print('Executing func_without_ret_val')\n",
    "    \n",
    "returned_value = func_without_ret_val()\n",
    "print('Returned Value:', returned_value)"
   ]
  },
  {
   "cell_type": "code",
   "execution_count": 10,
   "metadata": {},
   "outputs": [
    {
     "name": "stdout",
     "output_type": "stream",
     "text": [
      "Executing func_without_ret_val\n"
     ]
    },
    {
     "data": {
      "text/plain": [
       "NoneType"
      ]
     },
     "execution_count": 10,
     "metadata": {},
     "output_type": "execute_result"
    }
   ],
   "source": [
    "type(func_without_ret_val())"
   ]
  },
  {
   "cell_type": "markdown",
   "metadata": {},
   "source": [
    "9.\n",
    "If you want to refer to a global variable in a function, you can use the global keyword to declare which variables are global.\n",
    "\n",
    "A global variable can be refered using the global variable as shown below:\n",
    "\n",
    "For accessing the variable there is no need to declare it as global. But if we want to modify it, then global keyword is required.\n"
   ]
  },
  {
   "cell_type": "code",
   "execution_count": 17,
   "metadata": {},
   "outputs": [
    {
     "name": "stdout",
     "output_type": "stream",
     "text": [
      "0\n"
     ]
    }
   ],
   "source": [
    "i = 0\n",
    "def func():\n",
    "    print(i) #just accessing\n",
    "func()"
   ]
  },
  {
   "cell_type": "code",
   "execution_count": 19,
   "metadata": {},
   "outputs": [
    {
     "name": "stdout",
     "output_type": "stream",
     "text": [
      "2\n"
     ]
    }
   ],
   "source": [
    "j = 1\n",
    "def func1():\n",
    "    global j\n",
    "    j += 1\n",
    "    print(j)\n",
    "func1()"
   ]
  },
  {
   "cell_type": "code",
   "execution_count": 4,
   "metadata": {},
   "outputs": [
    {
     "data": {
      "text/plain": [
       "NoneType"
      ]
     },
     "execution_count": 4,
     "metadata": {},
     "output_type": "execute_result"
    }
   ],
   "source": [
    "#10\n",
    "type(None)"
   ]
  },
  {
   "cell_type": "markdown",
   "metadata": {},
   "source": [
    "10.\n",
    "\n",
    "The data type of NoneType\n",
    "\n",
    "11.\n",
    "\n",
    "That import statement imports a module named areallyourpetsnamederic. (This isn’t a real Python module, by the way.)\n",
    "\n",
    "If a module is not present, then ModuleNotFoundError is thrown. But if it is present, the functions and attributes contained in the module can be accessed using the dot notation as <module_name>.<function_name>\n"
   ]
  },
  {
   "cell_type": "code",
   "execution_count": 15,
   "metadata": {},
   "outputs": [
    {
     "ename": "ModuleNotFoundError",
     "evalue": "No module named 'areallyourpetsnamederic'",
     "output_type": "error",
     "traceback": [
      "\u001b[1;31m---------------------------------------------------------------------------\u001b[0m",
      "\u001b[1;31mModuleNotFoundError\u001b[0m                       Traceback (most recent call last)",
      "\u001b[1;32m<ipython-input-15-b1ea9cb2228f>\u001b[0m in \u001b[0;36m<module>\u001b[1;34m\u001b[0m\n\u001b[1;32m----> 1\u001b[1;33m \u001b[1;32mimport\u001b[0m \u001b[0mareallyourpetsnamederic\u001b[0m\u001b[1;33m\u001b[0m\u001b[1;33m\u001b[0m\u001b[0m\n\u001b[0m",
      "\u001b[1;31mModuleNotFoundError\u001b[0m: No module named 'areallyourpetsnamederic'"
     ]
    }
   ],
   "source": [
    "import areallyourpetsnamederic"
   ]
  },
  {
   "cell_type": "markdown",
   "metadata": {},
   "source": [
    "12.\n",
    "This function can be called with spam.bacon().\n",
    "\n",
    "After importing spam, bacon function can be called using:\n",
    "spam.bacon()\n",
    "\n",
    "13.\n",
    "\n",
    "Place the line of code that might cause an error in a try clause.\n",
    "\n",
    "If we can anticipate errors in our code, e.g. an invalid user input, we can prevent crashing of the program by using Exception Handling. We can provide alternate code blocks to be executed in case error arises.\n",
    "\n",
    "14.\n",
    "\n",
    "The code that could potentially cause an error goes in the try clause.\n",
    "\n",
    "The code that executes if an error happens goes in the except clause.\n",
    "\n",
    "try and except clause are used for handling exceptions. In scenarios where an error could arise and can be expected, they can be handled using try except clauses. Inside the try clause, we write the code block where an error is anticipated. In the except clause, we write the code block which will be executed in case the error arises. Example:"
   ]
  },
  {
   "cell_type": "code",
   "execution_count": 13,
   "metadata": {},
   "outputs": [
    {
     "name": "stdout",
     "output_type": "stream",
     "text": [
      "Cannot divide by zero\n"
     ]
    }
   ],
   "source": [
    "try:\n",
    "    2/0\n",
    "except ZeroDivisionError:\n",
    "    print('Cannot divide by zero')"
   ]
  },
  {
   "cell_type": "code",
   "execution_count": null,
   "metadata": {},
   "outputs": [],
   "source": []
  }
 ],
 "metadata": {
  "kernelspec": {
   "display_name": "Python 3 (ipykernel)",
   "language": "python",
   "name": "python3"
  },
  "language_info": {
   "codemirror_mode": {
    "name": "ipython",
    "version": 3
   },
   "file_extension": ".py",
   "mimetype": "text/x-python",
   "name": "python",
   "nbconvert_exporter": "python",
   "pygments_lexer": "ipython3",
   "version": "3.9.7"
  }
 },
 "nbformat": 4,
 "nbformat_minor": 4
}
