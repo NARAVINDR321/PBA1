{
 "cells": [
  {
   "cell_type": "markdown",
   "metadata": {},
   "source": [
    "# Advanced Assignment 8\n",
    "\n",
    "Q.1.\n",
    "\n",
    "From Python 3 onwards, raise statement has different syntax:\n",
    "raise [EXCEPTION]\n",
    "\n",
    "Implicit exception chaining: If exceptions are chained, e.g. the except block of a function calls another function that itself raises a different type of exception. If the first function throws an error, it goes to the except block which calls this function, which raises another exception. The original exception is stored in the __ context __ variable. This helps in debugging.\n",
    "\n",
    "Explicit exception chaining: If we want to explicitly raise an exception, which is chained to another exception, we can use:\n",
    "raise EXCEPTION from CAUSE\n",
    "\n",
    "The __ cause __ variable stores the original exception cause.\n",
    "\n",
    "There is also a __ traceback __ variable added.\n",
    "\n",
    "Q.3.\n",
    "\n",
    "Context information is attached using the __ cause __ and __ context __ variables.\n",
    "\n",
    "Q.4.\n",
    "\n",
    "The text of the exception error is defined in the exception body as:\n",
    "except Exception as e:\n",
    "    print(e)"
   ]
  },
  {
   "cell_type": "code",
   "execution_count": null,
   "metadata": {},
   "outputs": [],
   "source": []
  }
 ],
 "metadata": {
  "kernelspec": {
   "display_name": "Python 3",
   "language": "python",
   "name": "python3"
  },
  "language_info": {
   "codemirror_mode": {
    "name": "ipython",
    "version": 3
   },
   "file_extension": ".py",
   "mimetype": "text/x-python",
   "name": "python",
   "nbconvert_exporter": "python",
   "pygments_lexer": "ipython3",
   "version": "3.8.5"
  }
 },
 "nbformat": 4,
 "nbformat_minor": 4
}
