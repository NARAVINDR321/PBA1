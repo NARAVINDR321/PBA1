{
 "cells": [
  {
   "cell_type": "markdown",
   "metadata": {},
   "source": [
    "# Advanced Assignment 2\n",
    "\n",
    "1.\n",
    "\n",
    "A module consists of a number of methods and classes in it which perform a particular set of functions. e.g. the numpy module performs many numerical operations in Python and consists of a number of methods and classes like numpy.array.\n",
    "\n",
    "2.\n",
    "\n",
    "Classes are created using the 'class' keyword followed by the name of the class and its definition. \n",
    "e.g.\n",
    "\n",
    "class myclass:\n",
    "    def __init__(self):\n",
    "        self.att = 0\n",
    "\n",
    "An instance of a class is created using the class name and paranthesis and arguments (if present).\n",
    "e.g.\n",
    "\n",
    "myclassinstance = myclass()\n",
    "\n",
    "3.\n",
    "\n",
    "Attributes of a class are created using the __init__ method. e.g. the class below has 4 attributes and they are initialized using the __init__ method.\n",
    "\n",
    "class class1:\n",
    "    def __init__(self, a1, a2, a3):\n",
    "        self.a1 = a1\n",
    "        self.a2 = a2\n",
    "        self.a3 = a3\n",
    "        self.a4 = 0\n",
    "\n",
    "4.\n",
    "\n",
    "Attributes of an instance can be initialized while creating the instance or using the . operator.\n",
    "e.g.\n",
    "\n",
    "ins = class1(2,3,4)\n",
    "ins.a4 = 5\n",
    "\n",
    "5.\n",
    "\n",
    "'self' is not a keyword. It is just a convention to use the name 'self' for a variable used as the first argument of all methods in a class. The 'self' variable is a pointer that points to the class itself.\n",
    "\n",
    "6.\n",
    "\n",
    "Python has special functions for overloading operators. e.g. __add__ function can be used to define the behavior when 2 instances of an object are added.\n",
    "\n",
    "7.\n",
    "\n",
    "If you want to use operators directly with your classes then operator overloading can be done.\n",
    "e.g. a class for 2D coordinate point might have addition capabilities for its objects. "
   ]
  },
  {
   "cell_type": "code",
   "execution_count": 8,
   "metadata": {},
   "outputs": [],
   "source": [
    "class Coordinate2D:\n",
    "    def __init__(self, x, y):\n",
    "        self.x = x\n",
    "        self.y = y\n",
    "    def __add__(self, other):\n",
    "        return (self.x + other.x, self.y + other.y)\n",
    "    def __str__(self):\n",
    "        return \"(\" + str(self.x) + \", \" + str(self.y) + \")\""
   ]
  },
  {
   "cell_type": "code",
   "execution_count": 9,
   "metadata": {},
   "outputs": [
    {
     "name": "stdout",
     "output_type": "stream",
     "text": [
      "(2, 3)\n",
      "(4, 5)\n",
      "(6, 8)\n"
     ]
    }
   ],
   "source": [
    "p1 = Coordinate2D(2,3)\n",
    "p2 = Coordinate2D(4,5)\n",
    "print(p1)\n",
    "print(p2)\n",
    "print(p1 + p2)"
   ]
  },
  {
   "cell_type": "markdown",
   "metadata": {},
   "source": []
  }
 ],
 "metadata": {
  "kernelspec": {
   "display_name": "Python 3",
   "language": "python",
   "name": "python3"
  },
  "language_info": {
   "codemirror_mode": {
    "name": "ipython",
    "version": 3
   },
   "file_extension": ".py",
   "mimetype": "text/x-python",
   "name": "python",
   "nbconvert_exporter": "python",
   "pygments_lexer": "ipython3",
   "version": "3.8.5"
  }
 },
 "nbformat": 4,
 "nbformat_minor": 4
}
