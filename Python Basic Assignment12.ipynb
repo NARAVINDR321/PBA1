{
 "cells": [
  {
   "cell_type": "markdown",
   "metadata": {},
   "source": [
    "# Assignment 12"
   ]
  },
  {
   "cell_type": "markdown",
   "metadata": {},
   "source": [
    "Q.1.\n",
    "\n",
    "Since pdfs are binary documents, to read from it, we use \"rb\" and to write to it, we use \"wb\"\n",
    "\n",
    "Read-binary ('rb') for PdfFileReader() and write-binary ('wb') for PdfFileWriter()\n",
    "\n",
    "Q.2.\n",
    "\n",
    "If we have an object of type pdfFileReader type, we can use the getPage() function\n",
    "Calling getPage(4) will return a Page object\n",
    "ob.getPage(4)\n",
    "\n",
    "Q.3.\n",
    "\n",
    "The number of pages is stored by PdfFileReader.numPages\n",
    "\n",
    "The numPages variable stores an integer of the number of pages in the PdfFileReader object.\n",
    "\n",
    "Q.4.\n",
    "\n",
    "We use the function PdfFileReader.decrypt\n",
    "\n",
    "ob.decrypt(\"swordfish\")\n",
    "\n",
    "Call decrypt('swordfish')\n",
    "\n",
    "Q.5.\n",
    "\n",
    "A Page object has functions like rotateClockwise and rotateCounterClockwise, where we can pass the degree of rotation as an argument.\n",
    "\n",
    "The rotateClockwise() and rotateCounterClockwise() methods. The degrees to rotate is passed as an integer argument.\n",
    "\n",
    "Q.6.\n",
    "\n",
    "A Paragraph object in a Word document represents a paragraph. We get a new Paragraph object each time we press the \"enter\" key.\n",
    "\n",
    "A Run object in a Word document represents a continuous string with the same style (e.g. same font or letter type or size). A paragraph can contain multiple Run objects.\n",
    "\n",
    "Q.7.\n",
    "\n",
    "doc.paragraphs\n",
    "\n",
    "Q.8.\n",
    "\n",
    "The Run object has these attributes\n",
    "\n",
    "Q.9.\n",
    "\n",
    "True -> Text will be bold irrespective of other styles applied to it\n",
    "False -> Text will never be bold\n",
    "None -> Default style is applied. If default is set to bold, then bold will be applied in this case.\n",
    "\n",
    "Q.10.\n",
    "\n",
    "import docx\n",
    "doc = docx.Document()\n",
    "\n",
    "Here, doc is a Document object, which represents a new Word document.\n",
    "\n",
    "\n",
    "or \n",
    "\n",
    "docx.Document('demo.docx')\n",
    "\n",
    "\n",
    "Q.11.\n",
    "\n",
    "doc.add_paragraph('Hello, there!')\n",
    "doc.save()\n",
    "\n",
    "Q.12.\n",
    "\n",
    "Integers 0,1,2,3,4 are used for Header 0, Header 1, Header 2, Header 3, Header 4"
   ]
  },
  {
   "cell_type": "code",
   "execution_count": null,
   "metadata": {},
   "outputs": [],
   "source": []
  }
 ],
 "metadata": {
  "kernelspec": {
   "display_name": "Python 3 (ipykernel)",
   "language": "python",
   "name": "python3"
  },
  "language_info": {
   "codemirror_mode": {
    "name": "ipython",
    "version": 3
   },
   "file_extension": ".py",
   "mimetype": "text/x-python",
   "name": "python",
   "nbconvert_exporter": "python",
   "pygments_lexer": "ipython3",
   "version": "3.9.7"
  }
 },
 "nbformat": 4,
 "nbformat_minor": 4
}
