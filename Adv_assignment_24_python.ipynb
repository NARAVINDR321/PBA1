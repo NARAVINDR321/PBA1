{
 "cells": [
  {
   "cell_type": "markdown",
   "metadata": {},
   "source": [
    "# Advanced Assignment 24"
   ]
  },
  {
   "cell_type": "markdown",
   "metadata": {},
   "source": [
    "Q.1.\n",
    "\n",
    "We can use several import statements if we want to import different functions from it at different points in the program. \n",
    "\n",
    "Q.2.\n",
    "\n",
    "A module is a python script that contains within it definitions of various functions and classes. We can import a module by its filename. E.g. mymodule.py can be imported as -\n",
    "\n",
    "import mymodule\n",
    "\n",
    "Q.3.\n",
    "\n",
    "Circular imports can be prevented by importing within the function definition.\n",
    "\n",
    "E.g.\n",
    "\n",
    "There are 2 modules m1 and m2. m1 defines f11, f12. m2 defines f21. Suppose m1.f11 uses m2.f21 in its definition. But m2.f21 uses m1.f12 in its definition.\n",
    "\n",
    "For this, we can import m2 inside m1.f11 definition. In this way, m2.f21 will be imported only when needed.\n",
    "\n",
    "Q.4.\n",
    "\n",
    "__ all __ is a variable defined in the __ init __ .py of a package. It is a list of names of the modules that will be imported from the package when * is used for importing from it.\n",
    "\n",
    "i.e. from mypackage import *\n",
    "\n",
    "Q.5.\n",
    "\n",
    "The __ name __ variable returns the name of the current module. The __ name __ of the script that is currently executing is \"__ main __ \".\n",
    "\n",
    "If we are executing a module and we want to do some functionality based on whether the script is running as part of an import to another class or directly being executed, we use the check __ name __ == \" __ main __ \"\n",
    "\n",
    "\n"
   ]
  },
  {
   "cell_type": "code",
   "execution_count": null,
   "metadata": {},
   "outputs": [],
   "source": []
  }
 ],
 "metadata": {
  "kernelspec": {
   "display_name": "Python 3",
   "language": "python",
   "name": "python3"
  },
  "language_info": {
   "codemirror_mode": {
    "name": "ipython",
    "version": 3
   },
   "file_extension": ".py",
   "mimetype": "text/x-python",
   "name": "python",
   "nbconvert_exporter": "python",
   "pygments_lexer": "ipython3",
   "version": "3.8.5"
  }
 },
 "nbformat": 4,
 "nbformat_minor": 4
}
