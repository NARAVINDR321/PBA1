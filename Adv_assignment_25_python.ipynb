{
 "cells": [
  {
   "cell_type": "markdown",
   "metadata": {},
   "source": [
    "# Advanced Assignment 25"
   ]
  },
  {
   "cell_type": "markdown",
   "metadata": {},
   "source": [
    "Q.1.\n",
    "\n",
    "A numpy array is a sequence of elements of the same datatype. A dataframe is a sequence of series, which are like 1D numpy arrays but a dataframe has indices. A dataframe can also have named for each of its columns.\n",
    "\n",
    "To convert a numpy array to a pandas dataframe, use pandas.Dataframe. To convert a dataframe to a numpy array, use pandas.Dataframe.to_numpy\n",
    "\n",
    "Q.2.\n",
    "\n",
    "Stock tickers are a sequence of characters assigned to a company in a Stock Exchange. e.g. Apple -> AAPL.\n",
    "\n"
   ]
  },
  {
   "cell_type": "markdown",
   "metadata": {},
   "source": [
    "Q.3.\n",
    "\n",
    "We can plot candlestick charts using plotly.graph_objects.Candlestick. We can draw line charts to see trends using plotly.express.line function. We can draw OHLC graphs using plotly.graph_objects.Ohlc.\n",
    "\n",
    "Q.4.\n",
    "\n",
    "When we want to draw charts for multiple stocks,  a legend can indicate which plot corresponds to a particular stock.\n",
    "\n",
    "Q.5.\n",
    "\n",
    "To limit the length, we can set the option pd.set_option('display.max_rows',max_length)\n",
    "\n",
    "Q.6.\n",
    "\n",
    "A 180-day moving average refers to the average of the closing prices for a stock within a 180-day time period. The day-to-day prices are compared to the moving average to assess its performance.\n",
    "\n",
    "Q.7.\n",
    "\n",
    "Indirect importing means one module imports a module, that also imports another module. Python does not load the original module twice. It just creates a pointer to the module initially imported."
   ]
  },
  {
   "cell_type": "code",
   "execution_count": null,
   "metadata": {},
   "outputs": [],
   "source": []
  }
 ],
 "metadata": {
  "kernelspec": {
   "display_name": "Python 3",
   "language": "python",
   "name": "python3"
  },
  "language_info": {
   "codemirror_mode": {
    "name": "ipython",
    "version": 3
   },
   "file_extension": ".py",
   "mimetype": "text/x-python",
   "name": "python",
   "nbconvert_exporter": "python",
   "pygments_lexer": "ipython3",
   "version": "3.8.5"
  }
 },
 "nbformat": 4,
 "nbformat_minor": 4
}
