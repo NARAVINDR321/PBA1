{
 "cells": [
  {
   "cell_type": "markdown",
   "metadata": {},
   "source": [
    "# Advanced Assignment 1\n",
    "\n",
    "1.\n",
    "\n",
    "OOPs serves many purposes. For example, if we have a big project, OOPs makes it easier to maintain the code. It helps in making the code modular and reusable. It also implements abstraction.\n",
    "\n",
    "2.\n",
    "\n",
    "Inheritance search first looks for the attribute in the instance's class itself. If not found, it goes to find it upper in the hierarchy starting with its superclass/parent class.\n",
    "\n",
    "3.\n",
    "\n",
    "An instance of a class gives the actual values of the class's attributes. An instance 'ob' of a class 'A' has the type '__main__.A'. The type of class 'A' is 'type'.\n",
    "\n",
    "4.\n",
    "\n",
    "The first argument of any function defined in a class is a pointer that points to the class itself. It can be used to define and retrieve the variables that belong to a class.\n",
    "\n",
    "5.\n",
    "\n",
    "The __init__ method is used to initialize attributes for a class. When an instance of a class is created, this method is called and it initializes the attributes for that instance. Arguments can also be passed to the instance which are actually passed to this method. \n",
    "\n",
    "6.\n",
    "\n",
    "An instance named \"ob\" of a class 'A' is created below"
   ]
  },
  {
   "cell_type": "code",
   "execution_count": 14,
   "metadata": {},
   "outputs": [
    {
     "name": "stdout",
     "output_type": "stream",
     "text": [
      "1\n"
     ]
    }
   ],
   "source": [
    "class A:\n",
    "    def __init__(self, a):\n",
    "        self.a = a\n",
    "ob = A(1)\n",
    "print(ob.a)"
   ]
  },
  {
   "cell_type": "markdown",
   "metadata": {},
   "source": [
    "7. \n",
    "\n",
    "A class is created as follows:"
   ]
  },
  {
   "cell_type": "code",
   "execution_count": 15,
   "metadata": {},
   "outputs": [],
   "source": [
    "class Car:\n",
    "    def __init__(self, num_wheels):\n",
    "        self.wheels = num_wheels"
   ]
  },
  {
   "cell_type": "markdown",
   "metadata": {},
   "source": [
    "8.\n",
    "\n",
    "Superclass of a class is defined below. Here A is the superclass of B"
   ]
  },
  {
   "cell_type": "code",
   "execution_count": 18,
   "metadata": {},
   "outputs": [],
   "source": [
    "class B(A):\n",
    "    def __init__(self, a, b):\n",
    "        A.__init__(self, a)\n",
    "        self.b = b\n",
    "        "
   ]
  },
  {
   "cell_type": "code",
   "execution_count": 19,
   "metadata": {},
   "outputs": [
    {
     "name": "stdout",
     "output_type": "stream",
     "text": [
      "2\n",
      "3\n"
     ]
    }
   ],
   "source": [
    "ob2 = B(2,3)\n",
    "print(ob2.a)\n",
    "print(ob2.b)"
   ]
  },
  {
   "cell_type": "code",
   "execution_count": null,
   "metadata": {},
   "outputs": [],
   "source": []
  }
 ],
 "metadata": {
  "kernelspec": {
   "display_name": "Python 3",
   "language": "python",
   "name": "python3"
  },
  "language_info": {
   "codemirror_mode": {
    "name": "ipython",
    "version": 3
   },
   "file_extension": ".py",
   "mimetype": "text/x-python",
   "name": "python",
   "nbconvert_exporter": "python",
   "pygments_lexer": "ipython3",
   "version": "3.8.5"
  }
 },
 "nbformat": 4,
 "nbformat_minor": 4
}
