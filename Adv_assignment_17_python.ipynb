{
 "cells": [
  {
   "cell_type": "markdown",
   "metadata": {},
   "source": [
    "# Advanced Assignment 17"
   ]
  },
  {
   "cell_type": "markdown",
   "metadata": {},
   "source": [
    "Q.1.\n",
    "\n",
    "Greedy syntax tries to match as many characters as possible. Non-greedy syntax wants to match as little characters as possible.\n",
    "Example: * is a greedy syntax, *? is a non-greedy syntax\n",
    "\n",
    "Q.2.\n",
    "\n",
    "Example of greedy and non-greedy matching:"
   ]
  },
  {
   "cell_type": "code",
   "execution_count": 27,
   "metadata": {},
   "outputs": [],
   "source": [
    "import re"
   ]
  },
  {
   "cell_type": "code",
   "execution_count": 34,
   "metadata": {},
   "outputs": [],
   "source": [
    "greedy = re.compile(r\"a[bcd]*b\")\n",
    "non_greedy = re.compile(r\"a[bcd]*?b\")"
   ]
  },
  {
   "cell_type": "code",
   "execution_count": 35,
   "metadata": {},
   "outputs": [
    {
     "data": {
      "text/plain": [
       "'abcb'"
      ]
     },
     "execution_count": 35,
     "metadata": {},
     "output_type": "execute_result"
    }
   ],
   "source": [
    "greedy.match(r\"abcbd\").group()"
   ]
  },
  {
   "cell_type": "code",
   "execution_count": 36,
   "metadata": {},
   "outputs": [
    {
     "data": {
      "text/plain": [
       "'ab'"
      ]
     },
     "execution_count": 36,
     "metadata": {},
     "output_type": "execute_result"
    }
   ],
   "source": [
    "non_greedy.match(r\"abcbd\").group()"
   ]
  },
  {
   "cell_type": "markdown",
   "metadata": {},
   "source": [
    "Q.3.\n",
    "\n",
    "A non-tagged/non-capturing group matches a string but does not return it. If it is used, the matched string will not be returned.\n",
    "\n"
   ]
  },
  {
   "cell_type": "markdown",
   "metadata": {},
   "source": [
    "Q.5.\n",
    "\n",
    "A lookahead assertion checks the expression coming after the current position.\n",
    "\n",
    "E.g. we have a date DD-MM-YYYY. To ensure it's a valid date, we can use lookahead assertion. Based on the value of MM, the value of DD may or may not be valid. We can check that using these assertions.\n",
    "\n",
    "Q.6.\n",
    "\n",
    "Positive lookahead assertions asserts that the expression ahead of the current position matches the expression in the regex following the assertion.\n",
    "\n",
    "Negative lookahead assertions asserts that the expression ahead of the current position does not match the expression in the regex following the assertion.\n",
    "\n",
    "Q.7.\n",
    "\n",
    "Named groups eliminate the need to count or remember subgroup IDs and directly referring. This leads to more readable code that can be understood and maintained properly. It is useful for complex strings with many groups referring to different meanings.\n",
    "\n",
    "Q.8.\n",
    "\n",
    "No. A single named group will store just one value. If there are repeated values, it will replace the value each time and only the last captured string will remain.\n",
    "\n",
    "Q.9.\n",
    "\n",
    "re.Scanner let's you check for multiple formats of a string and give a name for each one. So it can be used to replace sensitive information with alternate strings. i.e. it can tokenize the string"
   ]
  },
  {
   "cell_type": "code",
   "execution_count": 58,
   "metadata": {},
   "outputs": [],
   "source": [
    "scanner = re.Scanner([(r\"\\d+ \", \"an integer\"), (r\"\\d+[.]\\d*\", \"a floating point number\")])"
   ]
  },
  {
   "cell_type": "code",
   "execution_count": 61,
   "metadata": {},
   "outputs": [],
   "source": [
    "p = scanner.scan(\"1 1.2 a\")"
   ]
  },
  {
   "cell_type": "code",
   "execution_count": 62,
   "metadata": {},
   "outputs": [
    {
     "data": {
      "text/plain": [
       "(['an integer', 'a floating point number'], ' a')"
      ]
     },
     "execution_count": 62,
     "metadata": {},
     "output_type": "execute_result"
    }
   ],
   "source": [
    "p"
   ]
  },
  {
   "cell_type": "markdown",
   "metadata": {},
   "source": []
  }
 ],
 "metadata": {
  "kernelspec": {
   "display_name": "Python 3",
   "language": "python",
   "name": "python3"
  },
  "language_info": {
   "codemirror_mode": {
    "name": "ipython",
    "version": 3
   },
   "file_extension": ".py",
   "mimetype": "text/x-python",
   "name": "python",
   "nbconvert_exporter": "python",
   "pygments_lexer": "ipython3",
   "version": "3.8.5"
  }
 },
 "nbformat": 4,
 "nbformat_minor": 4
}
