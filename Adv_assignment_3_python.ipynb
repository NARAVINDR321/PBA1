{
 "cells": [
  {
   "cell_type": "markdown",
   "metadata": {},
   "source": [
    "# Advanced Assignment 3\n",
    "\n",
    "Q.1.\n",
    "\n",
    "An abstract class is used to declare methods which are implemented by the classes that inherit the abstract class. The abstract class itself does not implement the methods but its subclasses have to implement those methods. It provides a good way to define functionalities for a group of classes.\n",
    "\n",
    "In Python, we can use the module \"abc\" to create abstract base classes. When we define the base class, we use \"@abstractmethod\" in front of the methods that must be abstract. When this is done, the class becomes abstract and cannot be instantiated. Also, if that method is not implemented, then we will get an error.\n",
    "\n",
    "Q.2.\n",
    "\n",
    "A top level assignment statement creates variables that belong to the class and shared by all the instances of the class. It can be accessed directly without instantiating the class.\n"
   ]
  },
  {
   "cell_type": "code",
   "execution_count": 53,
   "metadata": {},
   "outputs": [
    {
     "name": "stdout",
     "output_type": "stream",
     "text": [
      "1\n",
      "1\n",
      "1\n"
     ]
    }
   ],
   "source": [
    "class C:\n",
    "    class_v = 1\n",
    "c1 = C()\n",
    "c2 = C()\n",
    "print(C.class_v) #directly called by class\n",
    "print(c1.class_v)\n",
    "print(c2.class_v)"
   ]
  },
  {
   "cell_type": "markdown",
   "metadata": {},
   "source": [
    "Q.3.\n",
    "\n",
    "The variables that we declare inside the __init__ method of a class are called instance variables. They are called so because these variables are created only when the class is instantiated. Suppose a superclass declares an instance variable inside its __init__ method. If the superclass is not instantiated, this instance variable will not be inherited by the subclass. So the subclass cannot use the instance variable of its superclass.\n",
    "\n",
    "Hence, the subclass's __init__ method should call the superclass's __init__ method. In this way, the subclass instantiation will ensure that the superclass variables are initialized. And the subclass instance can use the instance variables of the superclass."
   ]
  },
  {
   "cell_type": "code",
   "execution_count": 51,
   "metadata": {},
   "outputs": [],
   "source": [
    "#without calling __init__ of superclass\n",
    "class parent:\n",
    "    def __init__(self):\n",
    "        print(\"parent's init called\")\n",
    "        self.p_iv = 1\n",
    "class child(parent):\n",
    "    def __init__(self):\n",
    "        print(\"child's init called\")\n",
    "    def some_func(self):\n",
    "        print(\"child's some_func called\")"
   ]
  },
  {
   "cell_type": "code",
   "execution_count": 52,
   "metadata": {},
   "outputs": [
    {
     "name": "stdout",
     "output_type": "stream",
     "text": [
      "child's init called\n"
     ]
    },
    {
     "ename": "AttributeError",
     "evalue": "'child' object has no attribute 'p_iv'",
     "output_type": "error",
     "traceback": [
      "\u001b[1;31m---------------------------------------------------------------------------\u001b[0m",
      "\u001b[1;31mAttributeError\u001b[0m                            Traceback (most recent call last)",
      "\u001b[1;32m<ipython-input-52-6eb60677e51d>\u001b[0m in \u001b[0;36m<module>\u001b[1;34m\u001b[0m\n\u001b[0;32m      1\u001b[0m \u001b[0mc\u001b[0m \u001b[1;33m=\u001b[0m \u001b[0mchild\u001b[0m\u001b[1;33m(\u001b[0m\u001b[1;33m)\u001b[0m\u001b[1;33m\u001b[0m\u001b[1;33m\u001b[0m\u001b[0m\n\u001b[1;32m----> 2\u001b[1;33m \u001b[0mc\u001b[0m\u001b[1;33m.\u001b[0m\u001b[0mp_iv\u001b[0m\u001b[1;33m\u001b[0m\u001b[1;33m\u001b[0m\u001b[0m\n\u001b[0m",
      "\u001b[1;31mAttributeError\u001b[0m: 'child' object has no attribute 'p_iv'"
     ]
    }
   ],
   "source": [
    "c = child()\n",
    "c.p_iv"
   ]
  },
  {
   "cell_type": "code",
   "execution_count": 49,
   "metadata": {},
   "outputs": [],
   "source": [
    "#calling __init__ of superclass\n",
    "class parent:\n",
    "    def __init__(self):\n",
    "        print(\"parent's init called\")\n",
    "        self.p_iv = 1\n",
    "class child(parent):\n",
    "    def __init__(self):\n",
    "        parent.__init__(self)\n",
    "        print(\"child's init called\")\n",
    "    def some_func(self):\n",
    "        print(\"child's some_func called\")"
   ]
  },
  {
   "cell_type": "code",
   "execution_count": 50,
   "metadata": {},
   "outputs": [
    {
     "name": "stdout",
     "output_type": "stream",
     "text": [
      "parent's init called\n",
      "child's init called\n"
     ]
    },
    {
     "data": {
      "text/plain": [
       "1"
      ]
     },
     "execution_count": 50,
     "metadata": {},
     "output_type": "execute_result"
    }
   ],
   "source": [
    "c = child()\n",
    "c.p_iv"
   ]
  },
  {
   "cell_type": "markdown",
   "metadata": {},
   "source": [
    "Q.5.\n",
    "\n",
    "In the local scope of a class, different types of variables can be created.\n",
    "1. Class variables: These are created directly inside class but outside any function. They are accessible by all objects of the class and even without instantiating the class\n",
    "2. Instance variables: These are created inside the __init__ method, their scope is within each object.\n",
    "3. Variables local to a function: These are variables that are local to the function and cannot be accessed outside the function."
   ]
  },
  {
   "cell_type": "code",
   "execution_count": null,
   "metadata": {},
   "outputs": [],
   "source": []
  }
 ],
 "metadata": {
  "kernelspec": {
   "display_name": "Python 3",
   "language": "python",
   "name": "python3"
  },
  "language_info": {
   "codemirror_mode": {
    "name": "ipython",
    "version": 3
   },
   "file_extension": ".py",
   "mimetype": "text/x-python",
   "name": "python",
   "nbconvert_exporter": "python",
   "pygments_lexer": "ipython3",
   "version": "3.8.5"
  }
 },
 "nbformat": 4,
 "nbformat_minor": 4
}
