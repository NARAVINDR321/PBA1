{
 "cells": [
  {
   "cell_type": "markdown",
   "metadata": {},
   "source": [
    "# Assignment 19"
   ]
  },
  {
   "cell_type": "code",
   "execution_count": 1,
   "metadata": {},
   "outputs": [
    {
     "name": "stdout",
     "output_type": "stream",
     "text": [
      "<class '__main__.Thing'>\n"
     ]
    }
   ],
   "source": [
    "# Q.1.\n",
    "\n",
    "class Thing:\n",
    "    pass\n",
    "print(Thing)"
   ]
  },
  {
   "cell_type": "code",
   "execution_count": 2,
   "metadata": {},
   "outputs": [
    {
     "name": "stdout",
     "output_type": "stream",
     "text": [
      "<__main__.Thing object at 0x0000024FE8EFB880>\n"
     ]
    }
   ],
   "source": [
    "ob = Thing()\n",
    "print(ob) #result is different"
   ]
  },
  {
   "cell_type": "code",
   "execution_count": 3,
   "metadata": {},
   "outputs": [
    {
     "name": "stdout",
     "output_type": "stream",
     "text": [
      "abc\n"
     ]
    }
   ],
   "source": [
    "# Q.2.\n",
    "\n",
    "class Thing2:\n",
    "    letters = 'abc'\n",
    "print(Thing2.letters)"
   ]
  },
  {
   "cell_type": "code",
   "execution_count": 4,
   "metadata": {},
   "outputs": [
    {
     "name": "stdout",
     "output_type": "stream",
     "text": [
      "xyz\n"
     ]
    }
   ],
   "source": [
    "# Q.3.\n",
    "\n",
    "class Thing3:\n",
    "    def __init__(self, letters):\n",
    "        self.letters = letters\n",
    "ob = Thing3('xyz')\n",
    "print(ob.letters)"
   ]
  },
  {
   "cell_type": "code",
   "execution_count": 5,
   "metadata": {},
   "outputs": [
    {
     "ename": "AttributeError",
     "evalue": "type object 'Thing3' has no attribute 'letters'",
     "output_type": "error",
     "traceback": [
      "\u001b[1;31m---------------------------------------------------------------------------\u001b[0m",
      "\u001b[1;31mAttributeError\u001b[0m                            Traceback (most recent call last)",
      "\u001b[1;32m~\\AppData\\Local\\Temp/ipykernel_1980/3799399286.py\u001b[0m in \u001b[0;36m<module>\u001b[1;34m\u001b[0m\n\u001b[1;32m----> 1\u001b[1;33m \u001b[0mprint\u001b[0m\u001b[1;33m(\u001b[0m\u001b[0mThing3\u001b[0m\u001b[1;33m.\u001b[0m\u001b[0mletters\u001b[0m\u001b[1;33m)\u001b[0m \u001b[1;31m#raises error. So object has to be created to access the letters attribute\u001b[0m\u001b[1;33m\u001b[0m\u001b[1;33m\u001b[0m\u001b[0m\n\u001b[0m",
      "\u001b[1;31mAttributeError\u001b[0m: type object 'Thing3' has no attribute 'letters'"
     ]
    }
   ],
   "source": [
    "print(Thing3.letters) #raises error. So object has to be created to access the letters attribute"
   ]
  },
  {
   "cell_type": "code",
   "execution_count": 6,
   "metadata": {},
   "outputs": [],
   "source": [
    "# Q.4.\n",
    "\n",
    "class Element():\n",
    "    def __init__(self, name, symbol, number):\n",
    "        self.name = name\n",
    "        self.symbol = symbol\n",
    "        self.number = number\n",
    "h_ob = Element(\"Hydrogen\", \"H\", 1)"
   ]
  },
  {
   "cell_type": "code",
   "execution_count": 7,
   "metadata": {},
   "outputs": [],
   "source": [
    "# Q.5.\n",
    "\n",
    "h_dict = {\"name\":\"Hydrogen\", \"symbol\":\"H\", \"number\":1}\n",
    "hydrogen = Element(h_dict[\"name\"], h_dict[\"symbol\"], h_dict[\"number\"])"
   ]
  },
  {
   "cell_type": "code",
   "execution_count": 8,
   "metadata": {},
   "outputs": [],
   "source": [
    "# Q.6.\n",
    "\n",
    "class Element():\n",
    "    def __init__(self, name, symbol, number):\n",
    "        self.name = name\n",
    "        self.symbol = symbol\n",
    "        self.number = number\n",
    "    def dump(self):\n",
    "        print(\"Name: {}, Symbol: {}, Number: {}\".format(self.name, self.symbol, self.number))"
   ]
  },
  {
   "cell_type": "code",
   "execution_count": 9,
   "metadata": {},
   "outputs": [],
   "source": [
    "h = Element(\"hydrogen\", \"H\", 1)"
   ]
  },
  {
   "cell_type": "code",
   "execution_count": 10,
   "metadata": {},
   "outputs": [
    {
     "name": "stdout",
     "output_type": "stream",
     "text": [
      "Name: hydrogen, Symbol: H, Number: 1\n"
     ]
    }
   ],
   "source": [
    "h.dump()"
   ]
  },
  {
   "cell_type": "code",
   "execution_count": 11,
   "metadata": {},
   "outputs": [],
   "source": [
    "# Q.7.\n",
    "\n",
    "class Element():\n",
    "    def __init__(self, name, symbol, number):\n",
    "        self.name = name\n",
    "        self.symbol = symbol\n",
    "        self.number = number\n",
    "    def __str__(self):\n",
    "        return \"Name: {}, Symbol: {}, Number: {}\".format(self.name, self.symbol, self.number)"
   ]
  },
  {
   "cell_type": "code",
   "execution_count": 12,
   "metadata": {},
   "outputs": [
    {
     "name": "stdout",
     "output_type": "stream",
     "text": [
      "Name: hydrogen, Symbol: H, Number: 1\n"
     ]
    }
   ],
   "source": [
    "hydrogen = Element(\"hydrogen\", \"H\", 1)\n",
    "print(hydrogen)"
   ]
  },
  {
   "cell_type": "code",
   "execution_count": 13,
   "metadata": {},
   "outputs": [],
   "source": [
    "# Q.8.\n",
    "\n",
    "class Element():\n",
    "    def __init__(self, name, symbol, number):\n",
    "        self.__name = name\n",
    "        self.__symbol = symbol\n",
    "        self.__number = number\n",
    "    def get_name(self):\n",
    "        return self.__name\n",
    "    def get_symbol(self):\n",
    "        return self.__symbol\n",
    "    def get_number(self):\n",
    "        return self.__number"
   ]
  },
  {
   "cell_type": "code",
   "execution_count": 14,
   "metadata": {},
   "outputs": [
    {
     "ename": "AttributeError",
     "evalue": "'Element' object has no attribute '__name'",
     "output_type": "error",
     "traceback": [
      "\u001b[1;31m---------------------------------------------------------------------------\u001b[0m",
      "\u001b[1;31mAttributeError\u001b[0m                            Traceback (most recent call last)",
      "\u001b[1;32m~\\AppData\\Local\\Temp/ipykernel_1980/3324721756.py\u001b[0m in \u001b[0;36m<module>\u001b[1;34m\u001b[0m\n\u001b[0;32m      1\u001b[0m \u001b[0mh\u001b[0m \u001b[1;33m=\u001b[0m \u001b[0mElement\u001b[0m\u001b[1;33m(\u001b[0m\u001b[1;34m\"hydrogen\"\u001b[0m\u001b[1;33m,\u001b[0m \u001b[1;34m\"H\"\u001b[0m\u001b[1;33m,\u001b[0m \u001b[1;36m1\u001b[0m\u001b[1;33m)\u001b[0m\u001b[1;33m\u001b[0m\u001b[1;33m\u001b[0m\u001b[0m\n\u001b[1;32m----> 2\u001b[1;33m \u001b[0mh\u001b[0m\u001b[1;33m.\u001b[0m\u001b[0m__name\u001b[0m \u001b[1;31m#private variable. Raises error\u001b[0m\u001b[1;33m\u001b[0m\u001b[1;33m\u001b[0m\u001b[0m\n\u001b[0m",
      "\u001b[1;31mAttributeError\u001b[0m: 'Element' object has no attribute '__name'"
     ]
    }
   ],
   "source": [
    "h = Element(\"hydrogen\", \"H\", 1)\n",
    "h.__name #private variable. Raises error"
   ]
  },
  {
   "cell_type": "code",
   "execution_count": 15,
   "metadata": {},
   "outputs": [
    {
     "data": {
      "text/plain": [
       "'hydrogen'"
      ]
     },
     "execution_count": 15,
     "metadata": {},
     "output_type": "execute_result"
    }
   ],
   "source": [
    "h.get_name()"
   ]
  },
  {
   "cell_type": "code",
   "execution_count": 16,
   "metadata": {},
   "outputs": [
    {
     "data": {
      "text/plain": [
       "'H'"
      ]
     },
     "execution_count": 16,
     "metadata": {},
     "output_type": "execute_result"
    }
   ],
   "source": [
    "h.get_symbol()"
   ]
  },
  {
   "cell_type": "code",
   "execution_count": 17,
   "metadata": {},
   "outputs": [
    {
     "data": {
      "text/plain": [
       "1"
      ]
     },
     "execution_count": 17,
     "metadata": {},
     "output_type": "execute_result"
    }
   ],
   "source": [
    "h.get_number()"
   ]
  },
  {
   "cell_type": "code",
   "execution_count": 18,
   "metadata": {},
   "outputs": [
    {
     "name": "stdout",
     "output_type": "stream",
     "text": [
      "Bear eats berries\n",
      "Rabbit eats clover\n",
      "Octothorpe eats campers\n"
     ]
    }
   ],
   "source": [
    "# Q.9.\n",
    "\n",
    "class Bear():\n",
    "    def eats(self):\n",
    "        return 'berries'\n",
    "class Rabbit():\n",
    "    def eats(self):\n",
    "        return 'clover'\n",
    "class Octothorpe():\n",
    "    def eats(self):\n",
    "        return 'campers'\n",
    "bear = Bear()\n",
    "print(\"Bear eats {}\".format(bear.eats()))\n",
    "rabbit = Rabbit()\n",
    "print(\"Rabbit eats {}\".format(rabbit.eats()))\n",
    "octothorpe = Octothorpe()\n",
    "print(\"Octothorpe eats {}\".format(octothorpe.eats()))"
   ]
  },
  {
   "cell_type": "code",
   "execution_count": 19,
   "metadata": {},
   "outputs": [
    {
     "data": {
      "text/plain": [
       "'disintegrate crush ring'"
      ]
     },
     "execution_count": 19,
     "metadata": {},
     "output_type": "execute_result"
    }
   ],
   "source": [
    "# Q.10.\n",
    "\n",
    "class Laser():\n",
    "    def does(self):\n",
    "        return 'disintegrate'\n",
    "class Claw():\n",
    "    def does(self):\n",
    "        return 'crush'\n",
    "class Smartphone():\n",
    "    def does(self):\n",
    "        return 'ring'\n",
    "class Robot():\n",
    "    def __init__(self):\n",
    "        self.l = Laser()\n",
    "        self.c = Claw()\n",
    "        self.s = Smartphone()\n",
    "    def does(self):\n",
    "        return self.l.does() + \" \" + self.c.does() + \" \" + self.s.does()\n",
    "    \n",
    "r = Robot()\n",
    "r.does()"
   ]
  },
  {
   "cell_type": "code",
   "execution_count": null,
   "metadata": {},
   "outputs": [],
   "source": []
  }
 ],
 "metadata": {
  "kernelspec": {
   "display_name": "Python 3 (ipykernel)",
   "language": "python",
   "name": "python3"
  },
  "language_info": {
   "codemirror_mode": {
    "name": "ipython",
    "version": 3
   },
   "file_extension": ".py",
   "mimetype": "text/x-python",
   "name": "python",
   "nbconvert_exporter": "python",
   "pygments_lexer": "ipython3",
   "version": "3.9.7"
  }
 },
 "nbformat": 4,
 "nbformat_minor": 4
}
