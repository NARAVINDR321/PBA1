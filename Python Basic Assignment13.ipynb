{
 "cells": [
  {
   "cell_type": "markdown",
   "metadata": {},
   "source": [
    "# Assignment 13\n",
    "\n",
    "1.\n",
    "\n",
    "Many operations can be performed on data stored in an Excel spreadsheet. However, this cannot be said for csv files. We can also add graphs and charts in Excel.\n",
    "\n",
    "In Excel, spreadsheets can have values of data types other than strings; cells can have different fonts, sizes, or color settings; cells can have varying widths and heights; adjacent cells can be merged; and you can embed images and charts.\n",
    "\n",
    "\n",
    "\n",
    "2.\n",
    "\n",
    "We pass the file object that we want to read/write to. We can also pass the CSV dialect e.g. Excel\n",
    "\n",
    "You pass a File object, obtained from a call to open().\n",
    "\n",
    "3.\n",
    "\n",
    "For reading, a file object is opened in \"r\" mode. For writing, a file object is opened in \"w\" mode.\n",
    "\n",
    "4.\n",
    "\n",
    "The writerow() method\n",
    "\n",
    "csv.reader\n",
    "\n",
    "5.\n",
    "\n",
    "The delimiter argument changes the string used to separate cells in a row. The lineterminator argument changes the string used to separate rows.\n",
    "\n",
    "\n",
    "Delimiter is the symbol that is used to separate each unit of data in a row. E.g. in .csv files, \",\" is used for separating different data. \n",
    "\n",
    "Line terminator is the symbol that separates each row of data.\n",
    "\n",
    "6.\n",
    "\n",
    "json.loads()\n",
    "\n",
    "7.\n",
    "\n",
    "json.dumps()"
   ]
  },
  {
   "cell_type": "code",
   "execution_count": null,
   "metadata": {},
   "outputs": [],
   "source": []
  }
 ],
 "metadata": {
  "kernelspec": {
   "display_name": "Python 3 (ipykernel)",
   "language": "python",
   "name": "python3"
  },
  "language_info": {
   "codemirror_mode": {
    "name": "ipython",
    "version": 3
   },
   "file_extension": ".py",
   "mimetype": "text/x-python",
   "name": "python",
   "nbconvert_exporter": "python",
   "pygments_lexer": "ipython3",
   "version": "3.9.7"
  }
 },
 "nbformat": 4,
 "nbformat_minor": 4
}
