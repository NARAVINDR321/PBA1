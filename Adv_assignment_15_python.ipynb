{
 "cells": [
  {
   "cell_type": "markdown",
   "metadata": {},
   "source": [
    "# Advanced Assignment 15"
   ]
  },
  {
   "cell_type": "markdown",
   "metadata": {},
   "source": [
    "Q.1.\n",
    "\n",
    "New features in Python 3.8:\n",
    "\n",
    "1. The walrus operator\n",
    "\n",
    "This can be used for assignment operations within an expression"
   ]
  },
  {
   "cell_type": "code",
   "execution_count": 1,
   "metadata": {},
   "outputs": [
    {
     "data": {
      "text/plain": [
       "3"
      ]
     },
     "execution_count": 1,
     "metadata": {},
     "output_type": "execute_result"
    }
   ],
   "source": [
    "1 + (n := 2)"
   ]
  },
  {
   "cell_type": "code",
   "execution_count": 2,
   "metadata": {},
   "outputs": [
    {
     "data": {
      "text/plain": [
       "2"
      ]
     },
     "execution_count": 2,
     "metadata": {},
     "output_type": "execute_result"
    }
   ],
   "source": [
    "n"
   ]
  },
  {
   "cell_type": "markdown",
   "metadata": {},
   "source": [
    "2.\n",
    "\n",
    "Positional-only parameters\n",
    "\n",
    "If we want parameters to be positional-only then \"/\" operator is used after those arguments. This helps when an argument is renamed later."
   ]
  },
  {
   "cell_type": "code",
   "execution_count": 3,
   "metadata": {},
   "outputs": [],
   "source": [
    "def func(a, b, /, c):\n",
    "    print(a, b, c)"
   ]
  },
  {
   "cell_type": "code",
   "execution_count": 4,
   "metadata": {},
   "outputs": [
    {
     "name": "stdout",
     "output_type": "stream",
     "text": [
      "1 2 3\n"
     ]
    }
   ],
   "source": [
    "func(1,2,c=3)"
   ]
  },
  {
   "cell_type": "code",
   "execution_count": 5,
   "metadata": {},
   "outputs": [
    {
     "ename": "SyntaxError",
     "evalue": "positional argument follows keyword argument (<ipython-input-5-c6bc7e2c0803>, line 1)",
     "output_type": "error",
     "traceback": [
      "\u001b[1;36m  File \u001b[1;32m\"<ipython-input-5-c6bc7e2c0803>\"\u001b[1;36m, line \u001b[1;32m1\u001b[0m\n\u001b[1;33m    func(a=1,2,c=3)\u001b[0m\n\u001b[1;37m             ^\u001b[0m\n\u001b[1;31mSyntaxError\u001b[0m\u001b[1;31m:\u001b[0m positional argument follows keyword argument\n"
     ]
    }
   ],
   "source": [
    "func(a=1,2,c=3) # raises SyntaxError"
   ]
  },
  {
   "cell_type": "markdown",
   "metadata": {},
   "source": [
    "_"
   ]
  },
  {
   "cell_type": "markdown",
   "metadata": {},
   "source": [
    "3.\n",
    "\n",
    "__ pycache __ is a directory that contains the compiled code of the modules executed. From Python 3.8, we can choose to use a different directory system to store our compiled module code. This is done using the PYTHONPYCACHEPREFIX setting.\n",
    "\n",
    "Q.2.\n",
    "\n",
    "Monkey patch is a technique of changing the behavior of a module at run time. E.g. we want to do a unit test. If the code includes a get_data function that connects to a database and gets actual data, but we want to test with some fixed code instead, we can assign the function to get some fixed data instead. This is monkey patching.\n",
    "\n",
    "from someDBmodule import get_data\n",
    "\n",
    "....\n",
    "\n",
    "get_data = my_fixed_data #monkey patching\n",
    "data = get_data(loc)\n",
    "\n",
    "....\n",
    "\n",
    "\n",
    "Q.3.\n",
    "\n",
    "Shallow copy and deep copy differences are seen in compound objects (e.g. list). A shallow copy is a copy of the object, and its elements are the references of the elements of the original object. A deep copy is a copy of the object, and its elements are the actual copies of the elements of the original object.\n",
    "\n",
    "Q.4.\n",
    "\n",
    "Python identifiers can be of unlimited length. i.e. it wouldn't cause any errors. However, the PEP-8 style guide mentions that the length of a line should be limited to 79. It could also affect readability of the code.\n",
    "\n",
    "\n",
    "Q.5.\n",
    "\n",
    "Generator comprehension is one that returns a generator which iterates through the elements provided in the comprehension expression.\n",
    "\n"
   ]
  },
  {
   "cell_type": "code",
   "execution_count": 15,
   "metadata": {},
   "outputs": [],
   "source": [
    "gen_comp = (x**2 for x in [1,2,3,4,5] if x % 2 != 0)"
   ]
  },
  {
   "cell_type": "code",
   "execution_count": 16,
   "metadata": {},
   "outputs": [
    {
     "data": {
      "text/plain": [
       "<generator object <genexpr> at 0x0000026649E37270>"
      ]
     },
     "execution_count": 16,
     "metadata": {},
     "output_type": "execute_result"
    }
   ],
   "source": [
    "gen_comp"
   ]
  },
  {
   "cell_type": "code",
   "execution_count": 17,
   "metadata": {},
   "outputs": [
    {
     "name": "stdout",
     "output_type": "stream",
     "text": [
      "1\n",
      "9\n",
      "25\n"
     ]
    }
   ],
   "source": [
    "for i in gen_comp:\n",
    "    print(i)"
   ]
  },
  {
   "cell_type": "code",
   "execution_count": null,
   "metadata": {},
   "outputs": [],
   "source": []
  }
 ],
 "metadata": {
  "kernelspec": {
   "display_name": "Python 3",
   "language": "python",
   "name": "python3"
  },
  "language_info": {
   "codemirror_mode": {
    "name": "ipython",
    "version": 3
   },
   "file_extension": ".py",
   "mimetype": "text/x-python",
   "name": "python",
   "nbconvert_exporter": "python",
   "pygments_lexer": "ipython3",
   "version": "3.8.5"
  }
 },
 "nbformat": 4,
 "nbformat_minor": 4
}
