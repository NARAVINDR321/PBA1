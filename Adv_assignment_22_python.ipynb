{
 "cells": [
  {
   "cell_type": "markdown",
   "metadata": {},
   "source": [
    "# Advanced Assignment 22"
   ]
  },
  {
   "cell_type": "markdown",
   "metadata": {},
   "source": [
    "Q.1.\n",
    "\n",
    "The built-in array package helps in efficient representation of numeric values such as integers, floats, doubles and characters. Since only a single type of element is stored in an array, the elements have same size and hence can be accessed faster in memory.\n",
    "\n",
    "Q.2.\n",
    "\n",
    "Array object can store only one type of element throughout the array. Also, array can store only numeric values and characters.\n",
    "\n",
    "Q.3.\n",
    "\n",
    "Array package arrays and numpy arrays both store only one type of element throughout the array. Numpy arrays provide a lot more functionality for numerical computations. They can be used easily to process matrices which can be part of image processing tasks. Array package does not provide such computations. But it is much more lightweight and is faster than numpy array.\n",
    "\n",
    "Q.4.\n",
    "\n",
    "numpy.ones initializes an array of given shape with all elements having value as 1.\n",
    "numpy.zeros initializes an array of given shape with all elements having value as 0.\n",
    "numpy.empty initializes an array of given shape with arbitrary values for each element. If we have a user-defined class and initialize a numpy.empty array, all its values will be set to None."
   ]
  },
  {
   "cell_type": "code",
   "execution_count": 1,
   "metadata": {},
   "outputs": [],
   "source": [
    "import numpy as np"
   ]
  },
  {
   "cell_type": "code",
   "execution_count": 38,
   "metadata": {},
   "outputs": [
    {
     "data": {
      "text/plain": [
       "array([[-803475568,        694,          0],\n",
       "       [         0,     131074,    7536751]])"
      ]
     },
     "execution_count": 38,
     "metadata": {},
     "output_type": "execute_result"
    }
   ],
   "source": [
    "a = np.empty((2,3),dtype=int)\n",
    "a"
   ]
  },
  {
   "cell_type": "code",
   "execution_count": 23,
   "metadata": {},
   "outputs": [],
   "source": [
    "class A:\n",
    "    pass"
   ]
  },
  {
   "cell_type": "code",
   "execution_count": 37,
   "metadata": {},
   "outputs": [
    {
     "data": {
      "text/plain": [
       "array([[None, None, None],\n",
       "       [None, None, None]], dtype=object)"
      ]
     },
     "execution_count": 37,
     "metadata": {},
     "output_type": "execute_result"
    }
   ],
   "source": [
    "np.empty((2,3), dtype=A)"
   ]
  },
  {
   "cell_type": "code",
   "execution_count": 35,
   "metadata": {},
   "outputs": [
    {
     "data": {
      "text/plain": [
       "array([1.07533215e-116, 4.50367904e+088])"
      ]
     },
     "execution_count": 35,
     "metadata": {},
     "output_type": "execute_result"
    }
   ],
   "source": [
    "np.empty(2)"
   ]
  },
  {
   "cell_type": "markdown",
   "metadata": {},
   "source": [
    "Q.5.\n",
    "\n",
    "numpy.fromfunction(function, shape, dtype)\n",
    "\n",
    "This applies the function to each coordinate position of the element in the array. e.g. the first element of a 2D array has the coordinates (0,0). SO , the function will have 2 arguments. The first argument is an array of the x coordinates, the second argument is an array of the y coordinates.\n",
    "E.g. we can find the diagnonal elements"
   ]
  },
  {
   "cell_type": "code",
   "execution_count": 109,
   "metadata": {},
   "outputs": [
    {
     "data": {
      "text/plain": [
       "array([[ True, False, False, False],\n",
       "       [False,  True, False, False],\n",
       "       [False, False,  True, False],\n",
       "       [False, False, False,  True]])"
      ]
     },
     "execution_count": 109,
     "metadata": {},
     "output_type": "execute_result"
    }
   ],
   "source": [
    "np.fromfunction(lambda x,y: x == y, (size+1, size+1), dtype=int)"
   ]
  },
  {
   "cell_type": "markdown",
   "metadata": {},
   "source": [
    "Q.6.\n",
    "\n",
    "The scalar value is added to all the elements of the array"
   ]
  },
  {
   "cell_type": "code",
   "execution_count": 111,
   "metadata": {},
   "outputs": [
    {
     "data": {
      "text/plain": [
       "array([[11., 11.],\n",
       "       [11., 11.]])"
      ]
     },
     "execution_count": 111,
     "metadata": {},
     "output_type": "execute_result"
    }
   ],
   "source": [
    "l = np.ones((2,2)) + 10\n",
    "l"
   ]
  },
  {
   "cell_type": "markdown",
   "metadata": {},
   "source": [
    "Q.7.\n",
    "\n",
    "Yes. The new scalar quantity is added to each element of the array."
   ]
  },
  {
   "cell_type": "code",
   "execution_count": 112,
   "metadata": {},
   "outputs": [],
   "source": [
    "l += 13"
   ]
  },
  {
   "cell_type": "code",
   "execution_count": 113,
   "metadata": {},
   "outputs": [
    {
     "data": {
      "text/plain": [
       "array([[24., 24.],\n",
       "       [24., 24.]])"
      ]
     },
     "execution_count": 113,
     "metadata": {},
     "output_type": "execute_result"
    }
   ],
   "source": [
    "l"
   ]
  },
  {
   "cell_type": "code",
   "execution_count": 114,
   "metadata": {},
   "outputs": [],
   "source": [
    "l *= 2"
   ]
  },
  {
   "cell_type": "code",
   "execution_count": 115,
   "metadata": {},
   "outputs": [
    {
     "data": {
      "text/plain": [
       "array([[48., 48.],\n",
       "       [48., 48.]])"
      ]
     },
     "execution_count": 115,
     "metadata": {},
     "output_type": "execute_result"
    }
   ],
   "source": [
    "l"
   ]
  },
  {
   "cell_type": "markdown",
   "metadata": {},
   "source": [
    "Q.8.\n",
    "\n",
    "Strings have dtype U i.e. unicode inside numpy arrays. Numpy arrays can have variable length strings. The length of the longest string decides the dtype. If it is 3, then dtype is U3.\n",
    "\n",
    "Q.9.\n",
    "\n",
    "Addition/multiplication of numpy arrays is done by adding/multiplying corresponding elments. The constraint is that both arrays should have the same shape."
   ]
  },
  {
   "cell_type": "code",
   "execution_count": 140,
   "metadata": {},
   "outputs": [
    {
     "name": "stdout",
     "output_type": "stream",
     "text": [
      "[[2. 2. 2.]\n",
      " [2. 2. 2.]]\n",
      "[[1. 1. 1.]\n",
      " [1. 1. 1.]]\n"
     ]
    }
   ],
   "source": [
    "l1 = (np.ones((2,3))+1)\n",
    "l2 = np.ones((2,3))\n",
    "print(l1)\n",
    "print(l2)"
   ]
  },
  {
   "cell_type": "code",
   "execution_count": 141,
   "metadata": {},
   "outputs": [
    {
     "data": {
      "text/plain": [
       "array([[3., 3., 3.],\n",
       "       [3., 3., 3.]])"
      ]
     },
     "execution_count": 141,
     "metadata": {},
     "output_type": "execute_result"
    }
   ],
   "source": [
    "l1 + l2"
   ]
  },
  {
   "cell_type": "code",
   "execution_count": 142,
   "metadata": {},
   "outputs": [
    {
     "data": {
      "text/plain": [
       "array([[2., 2., 2.],\n",
       "       [2., 2., 2.]])"
      ]
     },
     "execution_count": 142,
     "metadata": {},
     "output_type": "execute_result"
    }
   ],
   "source": [
    "l1 * l2"
   ]
  },
  {
   "cell_type": "markdown",
   "metadata": {},
   "source": [
    "Q.10.\n",
    "\n",
    "If we want to mask the values based on the values of the elements, we can use comparison operators to check the values and mask them using np.ma.masked_array."
   ]
  },
  {
   "cell_type": "code",
   "execution_count": 164,
   "metadata": {},
   "outputs": [
    {
     "data": {
      "text/plain": [
       "array([[1, 2, 3],\n",
       "       [4, 5, 6],\n",
       "       [7, 8, 9]])"
      ]
     },
     "execution_count": 164,
     "metadata": {},
     "output_type": "execute_result"
    }
   ],
   "source": [
    "l = [[1,2,3], [4,5,6], [7,8,9]]\n",
    "l = np.array(l)\n",
    "l"
   ]
  },
  {
   "cell_type": "code",
   "execution_count": 153,
   "metadata": {},
   "outputs": [
    {
     "data": {
      "text/plain": [
       "array([[False,  True, False],\n",
       "       [ True, False,  True],\n",
       "       [False,  True, False]])"
      ]
     },
     "execution_count": 153,
     "metadata": {},
     "output_type": "execute_result"
    }
   ],
   "source": [
    "mask = (l % 2 == 0)\n",
    "mask"
   ]
  },
  {
   "cell_type": "code",
   "execution_count": 156,
   "metadata": {},
   "outputs": [
    {
     "data": {
      "text/plain": [
       "masked_array(\n",
       "  data=[[1, --, 3],\n",
       "        [--, 5, --],\n",
       "        [7, --, 9]],\n",
       "  mask=[[False,  True, False],\n",
       "        [ True, False,  True],\n",
       "        [False,  True, False]],\n",
       "  fill_value=0)"
      ]
     },
     "execution_count": 156,
     "metadata": {},
     "output_type": "execute_result"
    }
   ],
   "source": [
    "l_masked = np.ma.masked_array(l, mask, fill_value=0)\n",
    "l_masked"
   ]
  },
  {
   "cell_type": "code",
   "execution_count": 162,
   "metadata": {},
   "outputs": [
    {
     "data": {
      "text/plain": [
       "array([1, 3, 5, 7, 9])"
      ]
     },
     "execution_count": 162,
     "metadata": {},
     "output_type": "execute_result"
    }
   ],
   "source": [
    "l_masked.compressed() # returning a 1d array of the unmasked values"
   ]
  },
  {
   "cell_type": "code",
   "execution_count": 165,
   "metadata": {},
   "outputs": [
    {
     "data": {
      "text/plain": [
       "array([[1, 0, 1],\n",
       "       [0, 1, 0],\n",
       "       [1, 0, 1]])"
      ]
     },
     "execution_count": 165,
     "metadata": {},
     "output_type": "execute_result"
    }
   ],
   "source": [
    "l_masked.filled(0) # filling masked values with 0"
   ]
  },
  {
   "cell_type": "markdown",
   "metadata": {},
   "source": [
    "Q.11.\n",
    "\n"
   ]
  },
  {
   "cell_type": "code",
   "execution_count": 169,
   "metadata": {},
   "outputs": [],
   "source": [
    "import random"
   ]
  },
  {
   "cell_type": "code",
   "execution_count": 196,
   "metadata": {},
   "outputs": [],
   "source": [
    "from statistics import variance"
   ]
  },
  {
   "cell_type": "code",
   "execution_count": 192,
   "metadata": {},
   "outputs": [],
   "source": [
    "from time import time"
   ]
  },
  {
   "cell_type": "code",
   "execution_count": 180,
   "metadata": {},
   "outputs": [
    {
     "data": {
      "text/plain": [
       "[0.0,\n",
       " 0.10220036586644399,\n",
       " 1.3876081047812705,\n",
       " 0.6730559667438452,\n",
       " 3.6155437606097287]"
      ]
     },
     "execution_count": 180,
     "metadata": {},
     "output_type": "execute_result"
    }
   ],
   "source": [
    "a = [random.random() * i for i in range(1000)]\n",
    "a[:5]"
   ]
  },
  {
   "cell_type": "code",
   "execution_count": 187,
   "metadata": {},
   "outputs": [],
   "source": [
    "def var(x):\n",
    "    m = sum(x)/len(x)\n",
    "    return sum([(i - m) ** 2 for i in x])/len(x)"
   ]
  },
  {
   "cell_type": "code",
   "execution_count": 200,
   "metadata": {},
   "outputs": [
    {
     "name": "stdout",
     "output_type": "stream",
     "text": [
      "Standard python\n",
      "48838.41253740605\n",
      "Time taken:  0.0009989738464355469\n",
      "\n",
      "Numpy var function\n",
      "48838.41253740611\n",
      "Time taken:  0.0009970664978027344\n",
      "\n",
      "Statistics variance function\n",
      "48887.29983724334\n",
      "Time taken:  0.010970830917358398\n"
     ]
    }
   ],
   "source": [
    "print(\"Standard python\")\n",
    "before = time()\n",
    "print(var(a))\n",
    "after = time()\n",
    "print(\"Time taken: \", after - before)\n",
    "print(\"\\nNumpy var function\")\n",
    "before = time()\n",
    "print(np.var(np.array(a)))\n",
    "after = time()\n",
    "print(\"Time taken: \", after - before)\n",
    "print(\"\\nStatistics variance function\")\n",
    "before = time()\n",
    "print(variance(a))\n",
    "after = time()\n",
    "print(\"Time taken: \", after - before)\n"
   ]
  },
  {
   "cell_type": "markdown",
   "metadata": {},
   "source": [
    "Here, time taken: variance() < np.var() < var()\n",
    "\n",
    "Q.12.\n",
    "\n",
    "The dimension of the boolean masked array is same as the original array. If we want to get only the unmasked values from it, we get a 1 dimensional array of the unmasked values, by using the compressed function of np.ma.masked_array."
   ]
  },
  {
   "cell_type": "code",
   "execution_count": null,
   "metadata": {},
   "outputs": [],
   "source": []
  }
 ],
 "metadata": {
  "kernelspec": {
   "display_name": "Python 3",
   "language": "python",
   "name": "python3"
  },
  "language_info": {
   "codemirror_mode": {
    "name": "ipython",
    "version": 3
   },
   "file_extension": ".py",
   "mimetype": "text/x-python",
   "name": "python",
   "nbconvert_exporter": "python",
   "pygments_lexer": "ipython3",
   "version": "3.8.5"
  }
 },
 "nbformat": 4,
 "nbformat_minor": 4
}
