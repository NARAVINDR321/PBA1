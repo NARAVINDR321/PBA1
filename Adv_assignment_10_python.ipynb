{
 "cells": [
  {
   "cell_type": "markdown",
   "metadata": {},
   "source": [
    "# Advanced Assignment 10"
   ]
  },
  {
   "cell_type": "markdown",
   "metadata": {},
   "source": [
    "Q.1.\n",
    "\n",
    "__ getattr __ method if defined in a class, is executed if an object's attribute is not found.\n",
    "\n",
    "__ getattribute __ method if defined in a class, is executed every time an object's attribute is accessed.\n",
    "\n",
    "Q.2.\n",
    "\n",
    "Properties are members of a class and their values are defined within the class or the object. The values of the properties are stored in a class/object dictionary.\n",
    "\n",
    "object.property will retrieve the value of the property from the dictionary\n",
    "\n",
    "Descriptors are classes that have methods like __ get __ defined in them. When a class has an attribute which is a descriptor object i.e.\n",
    "\n",
    "myclass:\n",
    "    myproperty = mydescriptor()\n",
    "\n",
    "object.myproperty will call the __ get __ method of the mydescriptor class. The values are not stored in the myclass dictionary, but computed on demand. This helps when the value of an attribute changes during the execution of a program and needs to be computed.\n",
    "\n",
    "Descriptors are more generalised and can be used in multiple classes.\n",
    "\n",
    "Q.3.\n",
    "\n",
    "__ getattr __ function is executed only if an attribute is not found. It usually creates the attribute and assigns a value and returns it\n",
    "\n",
    "__ getattribute __ function is executed every  time an attribute is called. It can be used if more computation is required within the class to get the attribute's value. If value is not found, it throws AttributeError\n",
    "\n",
    "__ get __ is a function of a descriptor class. It is not present within a class but specified outside it. It is also used to compute attribute values on demand. It is useful for dynamically changing attribute values"
   ]
  },
  {
   "cell_type": "code",
   "execution_count": null,
   "metadata": {},
   "outputs": [],
   "source": []
  }
 ],
 "metadata": {
  "kernelspec": {
   "display_name": "Python 3 (ipykernel)",
   "language": "python",
   "name": "python3"
  },
  "language_info": {
   "codemirror_mode": {
    "name": "ipython",
    "version": 3
   },
   "file_extension": ".py",
   "mimetype": "text/x-python",
   "name": "python",
   "nbconvert_exporter": "python",
   "pygments_lexer": "ipython3",
   "version": "3.9.7"
  }
 },
 "nbformat": 4,
 "nbformat_minor": 4
}
