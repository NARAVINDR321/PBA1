{
 "cells": [
  {
   "cell_type": "markdown",
   "metadata": {},
   "source": [
    "# Advanced Assignment 6"
   ]
  },
  {
   "cell_type": "markdown",
   "metadata": {},
   "source": [
    "Q.1.\n",
    "\n",
    "Exception processing ensures that the flow of the program does not break because of certain anomalous conditions.\n",
    "\n",
    "E.g. A wrong user input will crash the program if exception handling is not done\n",
    "\n",
    "If a connection to a database was not closed by the program, it can lead to errors if exception handling is not used.\n",
    "\n",
    "If we try to load a file which does not exist, it should not stop the program. Instead it should let the application user know that the file was not found. This is done by exception handling.\n",
    "\n",
    "Q.2.\n",
    "\n",
    "If something is not done to handle an exception, it will cause an error and the program will stop.\n",
    "\n",
    "Q.3.\n",
    "\n",
    "If an exception is likely to arise in a code block, we can handle it by putting that code block inside a try block and use an except block whose code will be executed in case the exception arises. \n",
    "\n",
    "We can also use a finally block whose code will be executed irrespective of whether exception arises or not. \n",
    "\n",
    "We can also use an else block whose code will be executed only if no exception arises.\n",
    "\n",
    "Q.4.\n",
    "\n",
    "We can trigger exceptions using the raise and assert methods. raise will give rise to an exception which is mentioned along with it. assert is used to check the value of objects. If the value does not match, the assert statement will cause an exception\n",
    "\n",
    "Q.5.\n",
    "\n",
    "1. finally block can be used\n",
    "\n",
    "2. We can use with-as statements which ensure that unmanaged resources are always cleaned up, regardless of exceptions.\n",
    "\n",
    "e.g. with open(\"file.txt\") as f:\n",
    "\n",
    "We don't have to put f.close(). It will be closed after the execution of the code block inside it."
   ]
  },
  {
   "cell_type": "code",
   "execution_count": null,
   "metadata": {},
   "outputs": [],
   "source": []
  }
 ],
 "metadata": {
  "kernelspec": {
   "display_name": "Python 3",
   "language": "python",
   "name": "python3"
  },
  "language_info": {
   "codemirror_mode": {
    "name": "ipython",
    "version": 3
   },
   "file_extension": ".py",
   "mimetype": "text/x-python",
   "name": "python",
   "nbconvert_exporter": "python",
   "pygments_lexer": "ipython3",
   "version": "3.8.5"
  }
 },
 "nbformat": 4,
 "nbformat_minor": 4
}
