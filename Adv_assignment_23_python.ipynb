{
 "cells": [
  {
   "cell_type": "markdown",
   "metadata": {},
   "source": [
    "# Advanced Assignment 23"
   ]
  },
  {
   "cell_type": "markdown",
   "metadata": {},
   "source": [
    "Q.2.\n",
    "\n",
    "The benefits of compound interest is seen over time. Whatever interest is earned in your first period is actually reinvested. Hence, the principal actually increases. This leads to higher amount. So if your interest is compounded annually, it means whatever interest you gained at the end of the year will be reinvested. This will happen every year until the end of your term.\n",
    "\n",
    "But in simple interest, we get interest every year based on the principal that was invested initially only. So the amount is less.\n",
    "\n",
    "Amount in S.I = p + p * (1+r) + p * (1+r) + p * (1+r)  + ... \n",
    "\n",
    "Amount in C.I = p * (1+r) * (1+r) * (1+r) * ...\n",
    "\n",
    "Q.3.\n",
    "\n",
    "A histogram is a graph used to depict distribution curves in terms of blocks. The height of the blocks represent the magnitude of the distribution values. \n",
    "\n",
    "We can use numpy.histogram to create one\n",
    "\n",
    "Q.4.\n",
    "\n",
    "We can use matplotlib's set_aspect method on the current axis and give the argument as required.\n",
    "\n",
    "plt.gca().set_aspect(3)\n",
    "\n",
    "Q.5.\n",
    "\n",
    "Dot product results in a single scalar value. So matrix multiplication of a (1,n) and a (n,1) matrix will result in a (1,1) matrix with a single value. Here, the corresponding elements are multiplied but the dimensions are different. One is a column vector, the other is a row vector.\n",
    "\n",
    "Outer product results in a matrix, not a single value. So matrix multiplication of a (n,1) and a (1,n) matrix will result in a (n,n) matrix. This is the outer product.\n",
    "\n",
    "Multiplying with the * symbol between 2 numpy arrays results in element wise multiplication. So, multiplication of a (m,n) and another (m,n) matrix results in a (m,n) matrix. \n",
    "\n",
    "Q.6.\n",
    "\n",
    "numpy.pmt() function should be used for calculating monthly mortgage payment.\n",
    "\n",
    "Q.7.\n",
    "\n",
    "If a value in a numpy array is replaced by a longer string (longer than all other elements), it is truncated to the size of the longest element already present in the array.\n",
    "\n",
    "Numpy array can store variable length strings if already initialized with them."
   ]
  },
  {
   "cell_type": "code",
   "execution_count": null,
   "metadata": {},
   "outputs": [],
   "source": []
  }
 ],
 "metadata": {
  "kernelspec": {
   "display_name": "Python 3",
   "language": "python",
   "name": "python3"
  },
  "language_info": {
   "codemirror_mode": {
    "name": "ipython",
    "version": 3
   },
   "file_extension": ".py",
   "mimetype": "text/x-python",
   "name": "python",
   "nbconvert_exporter": "python",
   "pygments_lexer": "ipython3",
   "version": "3.8.5"
  }
 },
 "nbformat": 4,
 "nbformat_minor": 4
}
