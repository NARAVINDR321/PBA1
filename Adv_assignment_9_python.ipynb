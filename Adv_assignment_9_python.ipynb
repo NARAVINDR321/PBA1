{
 "cells": [
  {
   "cell_type": "markdown",
   "metadata": {},
   "source": [
    "# Advanced Assignment 9"
   ]
  },
  {
   "cell_type": "markdown",
   "metadata": {},
   "source": [
    "Q.1.\n",
    "\n",
    "The \"string\" module has a Formatter class which is used to define own string formats to be used. It has a function named vformat() which takes a string and converts it into individual characters and their replacement fields. It also has functions like get_field and get_value\n",
    "\n",
    "Q.2.\n",
    "\n",
    "Python 3 stores strings as Unicode. In Python 2, they were stored as ASCII by default\n",
    "\n",
    "Q.3.\n",
    "\n",
    "Since strings are stored as Unicode by default in Python 3, non-ASCII characters can be directly stored.\n",
    "\n",
    "Q.4.\n",
    "\n",
    "In text mode, the actual text is stored in a file. In binary mode, the bytes are stored in the file. This makes them difficult to be read by humans and adds a layer of security. When opened in text mode, str objects can be stored in the file. But when opened in binary mode, only bytes objects are stored.\n",
    "\n",
    "Q.5.\n",
    "\n",
    "We can decode the string using the decode() method and then encode it to Unicode using the encode() method.\n",
    "\n",
    "Q.6.\n",
    "\n",
    "We can encode it in a different format using the decode() function:\n",
    "\n",
    "decode(encoding='utf-8')\n",
    "\n",
    "Q.7.\n",
    "\n",
    "ASCII maps 128 characters to numbers. Unicode maps several extra characters, apart from the ones present in ASCII."
   ]
  },
  {
   "cell_type": "code",
   "execution_count": null,
   "metadata": {},
   "outputs": [],
   "source": []
  }
 ],
 "metadata": {
  "kernelspec": {
   "display_name": "Python 3",
   "language": "python",
   "name": "python3"
  },
  "language_info": {
   "codemirror_mode": {
    "name": "ipython",
    "version": 3
   },
   "file_extension": ".py",
   "mimetype": "text/x-python",
   "name": "python",
   "nbconvert_exporter": "python",
   "pygments_lexer": "ipython3",
   "version": "3.8.5"
  }
 },
 "nbformat": 4,
 "nbformat_minor": 4
}
