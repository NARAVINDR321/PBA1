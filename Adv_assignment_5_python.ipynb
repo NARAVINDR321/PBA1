{
 "cells": [
  {
   "cell_type": "markdown",
   "metadata": {},
   "source": [
    "# Advanced Assignment 5\n",
    "\n",
    "Q.1.\n",
    "\n",
    "Multiple inheritance means a derived class can inherit from multiple base classes."
   ]
  },
  {
   "cell_type": "code",
   "execution_count": 3,
   "metadata": {},
   "outputs": [],
   "source": [
    "class base1:\n",
    "    def __init__(self):\n",
    "        print(\"Instance of base1\")\n",
    "class base2:\n",
    "    def __init__(self):\n",
    "        print(\"Instance of base2\")\n",
    "class derived(base1, base2):\n",
    "    def __init__(self):\n",
    "        base1.__init__(self)\n",
    "        base2.__init__(self)\n",
    "        print(\"Instance of derived\")"
   ]
  },
  {
   "cell_type": "code",
   "execution_count": 4,
   "metadata": {},
   "outputs": [
    {
     "name": "stdout",
     "output_type": "stream",
     "text": [
      "Instance of base1\n",
      "Instance of base2\n",
      "Instance of derived\n"
     ]
    }
   ],
   "source": [
    "d = derived()"
   ]
  },
  {
   "cell_type": "markdown",
   "metadata": {},
   "source": [
    "Q.2.\n",
    "\n",
    "Delegation is a design pattern where you can create a class that modifies the behavior of one or more methods of a class and the remaining methods and attributes are delegated to the original class. To delegate the behavior, we can override the __ getattr__ method.\n",
    "\n"
   ]
  },
  {
   "cell_type": "code",
   "execution_count": 8,
   "metadata": {},
   "outputs": [
    {
     "name": "stdout",
     "output_type": "stream",
     "text": [
      "Instance of One\n",
      "Instance of Two\n"
     ]
    }
   ],
   "source": [
    "class One:\n",
    "    def __init__(self):\n",
    "        print(\"Instance of One\")\n",
    "    def func(self):\n",
    "        print(\"One.func called\")\n",
    "    def otherfunc(self):\n",
    "        print(\"One.otherfunc called\")\n",
    "class Two:\n",
    "    def __init__(self, one):\n",
    "        print(\"Instance of Two\")\n",
    "        self._one = one\n",
    "    def func(self):\n",
    "        print(\"Two.func called\")\n",
    "    def __getattr__(self, name):\n",
    "        return getattr(self._one, name)\n",
    "\n",
    "two = Two(One())"
   ]
  },
  {
   "cell_type": "code",
   "execution_count": 9,
   "metadata": {},
   "outputs": [
    {
     "name": "stdout",
     "output_type": "stream",
     "text": [
      "Two.func called\n"
     ]
    }
   ],
   "source": [
    "two.func() #function modified by class Two"
   ]
  },
  {
   "cell_type": "code",
   "execution_count": 10,
   "metadata": {},
   "outputs": [
    {
     "name": "stdout",
     "output_type": "stream",
     "text": [
      "One.otherfunc called\n"
     ]
    }
   ],
   "source": [
    "two.otherfunc() #function delegated to class One"
   ]
  },
  {
   "cell_type": "markdown",
   "metadata": {},
   "source": [
    "Q.3.\n",
    "\n",
    "Composition is an object-oriented programming technique where we combine two types of class objects. The 2 classes are called composite and component. The component class is a part of the composite class.\n",
    "This can be implemented by having a component class as the attribute of a composite class."
   ]
  },
  {
   "cell_type": "code",
   "execution_count": 19,
   "metadata": {},
   "outputs": [
    {
     "name": "stdout",
     "output_type": "stream",
     "text": [
      "Name: NPS\n",
      "Address: PIN: 547382 City: Ghy State: Assam\n",
      "Rank: 14\n"
     ]
    }
   ],
   "source": [
    "class Address:\n",
    "    def __init__(self, pin, city, state):\n",
    "        self.pin = pin\n",
    "        self.city = city\n",
    "        self.state = state\n",
    "    def __str__(self):\n",
    "        return \"PIN: \" + self.pin + \" City: \" + self.city + \" State: \" + self.state\n",
    "class School:\n",
    "    def __init__(self, name, rank, address = None):\n",
    "        self.name = name\n",
    "        self.address = address\n",
    "        self.rank = rank\n",
    "    def __str__(self):\n",
    "        return \"Name: \" + self.name + \"\\nAddress: \" + str(self.address) + \"\\nRank: \" + self.rank\n",
    "\n",
    "nps = School(\"NPS\", \"14\")\n",
    "nps.address = Address(\"547382\", \"Ghy\", \"Assam\")\n",
    "print(nps)"
   ]
  },
  {
   "cell_type": "markdown",
   "metadata": {},
   "source": [
    "Q.4.\n",
    "\n",
    "Bound methods are those methods inside a class which are accessed by an instance of the class. The idea of bound and unbound methods has been removed since Python 3.x"
   ]
  },
  {
   "cell_type": "markdown",
   "metadata": {},
   "source": [
    "Q.5.\n",
    "\n",
    "In Python, we do not have private, protected and public variables in a class. If required, all variables can be accessed outside of a class. However, it is possible to create pseudoprivate attributes in Python by using double leading underscores before a variable's name. Such variables cannot be directly accessed outside of a class using their names. This is because of a process called name mangling. If a variable is named __ x then the name of the variable is changed to _ classname__x. Hence __ x cannot be accessed outside of the class. But these are pseudo because the variable can still be accessed using _ classname__x outside a class."
   ]
  },
  {
   "cell_type": "code",
   "execution_count": 21,
   "metadata": {},
   "outputs": [
    {
     "name": "stdout",
     "output_type": "stream",
     "text": [
      "5\n",
      "5\n"
     ]
    },
    {
     "ename": "AttributeError",
     "evalue": "'C' object has no attribute '__x'",
     "output_type": "error",
     "traceback": [
      "\u001b[1;31m---------------------------------------------------------------------------\u001b[0m",
      "\u001b[1;31mAttributeError\u001b[0m                            Traceback (most recent call last)",
      "\u001b[1;32m<ipython-input-21-cae8c53dce5d>\u001b[0m in \u001b[0;36m<module>\u001b[1;34m\u001b[0m\n\u001b[0;32m      7\u001b[0m \u001b[0mprint\u001b[0m\u001b[1;33m(\u001b[0m\u001b[0mc\u001b[0m\u001b[1;33m.\u001b[0m\u001b[0mget_x\u001b[0m\u001b[1;33m(\u001b[0m\u001b[1;33m)\u001b[0m\u001b[1;33m)\u001b[0m\u001b[1;33m\u001b[0m\u001b[1;33m\u001b[0m\u001b[0m\n\u001b[0;32m      8\u001b[0m \u001b[0mprint\u001b[0m\u001b[1;33m(\u001b[0m\u001b[0mc\u001b[0m\u001b[1;33m.\u001b[0m\u001b[0m_C__x\u001b[0m\u001b[1;33m)\u001b[0m\u001b[1;33m\u001b[0m\u001b[1;33m\u001b[0m\u001b[0m\n\u001b[1;32m----> 9\u001b[1;33m \u001b[0mprint\u001b[0m\u001b[1;33m(\u001b[0m\u001b[0mc\u001b[0m\u001b[1;33m.\u001b[0m\u001b[0m__x\u001b[0m\u001b[1;33m)\u001b[0m\u001b[1;33m\u001b[0m\u001b[1;33m\u001b[0m\u001b[0m\n\u001b[0m",
      "\u001b[1;31mAttributeError\u001b[0m: 'C' object has no attribute '__x'"
     ]
    }
   ],
   "source": [
    "class C:\n",
    "    def __init__(self, x):\n",
    "        self.__x = x\n",
    "    def get_x(self):\n",
    "        return self.__x\n",
    "c = C(5)\n",
    "print(c.get_x())\n",
    "print(c._C__x) \n",
    "print(c.__x)"
   ]
  },
  {
   "cell_type": "code",
   "execution_count": null,
   "metadata": {},
   "outputs": [],
   "source": []
  }
 ],
 "metadata": {
  "kernelspec": {
   "display_name": "Python 3",
   "language": "python",
   "name": "python3"
  },
  "language_info": {
   "codemirror_mode": {
    "name": "ipython",
    "version": 3
   },
   "file_extension": ".py",
   "mimetype": "text/x-python",
   "name": "python",
   "nbconvert_exporter": "python",
   "pygments_lexer": "ipython3",
   "version": "3.8.5"
  }
 },
 "nbformat": 4,
 "nbformat_minor": 4
}
