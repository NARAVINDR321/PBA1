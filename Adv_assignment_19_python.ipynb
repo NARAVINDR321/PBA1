{
 "cells": [
  {
   "cell_type": "markdown",
   "metadata": {},
   "source": [
    "# Advanced Assignment 19"
   ]
  },
  {
   "cell_type": "markdown",
   "metadata": {},
   "source": [
    "Q.1.\n",
    "\n",
    "One class can have many instances. So it is a one to many relationship.\n",
    "\n",
    "Q.2.\n",
    "\n",
    "An instance will contain the values of the instance variables which are initialized in the __ init __ method."
   ]
  },
  {
   "cell_type": "markdown",
   "metadata": {},
   "source": [
    "Q.3.\n",
    "\n",
    "The class defines the attributes and functions that all its instances will have.\n",
    "\n",
    "Q.4.\n",
    "\n",
    "A method defines the behavior of an object. A method always belongs to an object. A function is independent of any object. \n",
    "\n",
    "Q.5.\n",
    "\n",
    "Inheritance is supported in python. The base class is written as an argument to the derived class in the class definition."
   ]
  },
  {
   "cell_type": "code",
   "execution_count": 1,
   "metadata": {},
   "outputs": [],
   "source": [
    "class A:\n",
    "    a = 1\n",
    "class B(A):\n",
    "    b = 2"
   ]
  },
  {
   "cell_type": "code",
   "execution_count": 2,
   "metadata": {},
   "outputs": [],
   "source": [
    "B_ob = B()"
   ]
  },
  {
   "cell_type": "code",
   "execution_count": 3,
   "metadata": {},
   "outputs": [
    {
     "data": {
      "text/plain": [
       "2"
      ]
     },
     "execution_count": 3,
     "metadata": {},
     "output_type": "execute_result"
    }
   ],
   "source": [
    "B_ob.b"
   ]
  },
  {
   "cell_type": "code",
   "execution_count": 4,
   "metadata": {},
   "outputs": [
    {
     "data": {
      "text/plain": [
       "1"
      ]
     },
     "execution_count": 4,
     "metadata": {},
     "output_type": "execute_result"
    }
   ],
   "source": [
    "B_ob.a"
   ]
  },
  {
   "cell_type": "markdown",
   "metadata": {},
   "source": [
    "Q.6.\n",
    "\n",
    "Python does not have the concept of private variables. A variable with a leading underscore is intended to be treated as a private variable but it can be accessed outside as well. A variable with double leading underscores causes name mangling to happen. So the variable cannot be directly accessed by the original name, but it can still be accessed by its mangled name.\n",
    "\n",
    "Q.7.\n",
    "\n",
    "A class variable can be directly accessed by the class name. But an instance variable cannot. Instance variables belong to an object of the class and can be accessed only through their objects."
   ]
  },
  {
   "cell_type": "code",
   "execution_count": 5,
   "metadata": {},
   "outputs": [],
   "source": [
    "class A:\n",
    "    a = 1\n",
    "    def __init__(self, va):\n",
    "        self.va = va"
   ]
  },
  {
   "cell_type": "code",
   "execution_count": 7,
   "metadata": {},
   "outputs": [],
   "source": [
    "ob = A(22)"
   ]
  },
  {
   "cell_type": "code",
   "execution_count": 8,
   "metadata": {},
   "outputs": [
    {
     "data": {
      "text/plain": [
       "22"
      ]
     },
     "execution_count": 8,
     "metadata": {},
     "output_type": "execute_result"
    }
   ],
   "source": [
    "ob.va"
   ]
  },
  {
   "cell_type": "code",
   "execution_count": 9,
   "metadata": {},
   "outputs": [
    {
     "data": {
      "text/plain": [
       "1"
      ]
     },
     "execution_count": 9,
     "metadata": {},
     "output_type": "execute_result"
    }
   ],
   "source": [
    "ob.a"
   ]
  },
  {
   "cell_type": "code",
   "execution_count": 10,
   "metadata": {},
   "outputs": [
    {
     "data": {
      "text/plain": [
       "1"
      ]
     },
     "execution_count": 10,
     "metadata": {},
     "output_type": "execute_result"
    }
   ],
   "source": [
    "A.a"
   ]
  },
  {
   "cell_type": "code",
   "execution_count": 11,
   "metadata": {},
   "outputs": [
    {
     "ename": "AttributeError",
     "evalue": "type object 'A' has no attribute 'va'",
     "output_type": "error",
     "traceback": [
      "\u001b[1;31m---------------------------------------------------------------------------\u001b[0m",
      "\u001b[1;31mAttributeError\u001b[0m                            Traceback (most recent call last)",
      "\u001b[1;32m<ipython-input-11-6dbb2b3c508d>\u001b[0m in \u001b[0;36m<module>\u001b[1;34m\u001b[0m\n\u001b[1;32m----> 1\u001b[1;33m \u001b[0mA\u001b[0m\u001b[1;33m.\u001b[0m\u001b[0mva\u001b[0m\u001b[1;33m\u001b[0m\u001b[1;33m\u001b[0m\u001b[0m\n\u001b[0m",
      "\u001b[1;31mAttributeError\u001b[0m: type object 'A' has no attribute 'va'"
     ]
    }
   ],
   "source": [
    "A.va #raises error"
   ]
  },
  {
   "cell_type": "markdown",
   "metadata": {},
   "source": [
    "Q.8.\n",
    "\n",
    "self keyword is used to refer to the object itself. When an object is created and its method is run, the self keyword will refer to that object which is calling the method of the class.\n",
    "\n",
    "Q.9.\n",
    "\n",
    "__ add __ can be implemented in a class when we want to add something to this class's objects. i.e. calling obj + some_var will call obj.__ add __ (var).\n",
    "\n",
    "This is valid when obj is the left operand. It doesn't work for some_var + obj.\n",
    "\n",
    "To make some_var + obj valid, we have to use __ radd __ i.e. the object is the right operand.\n",
    "\n",
    "Now, calling some_var + obj will first check if some_var has an __ add __ implemented. If not, obj.__ radd __ (some_var) will be executed.\n",
    "\n",
    "Q.10.\n",
    "\n",
    "When we want an operator to have the commutative property, only then we need to implement the __ radd __ method. Otherwise, it should not be implemented. Also, if an object is only operated with itself, then this method is not required, as __ add __ of the left side object will take care of it.\n",
    "\n",
    "Q.11.\n",
    "\n",
    "__ iadd __ is used for implementing += operation with a class. It overloads the += operator. \n",
    "\n",
    "Q.12.\n",
    "\n",
    "__ init __ is not inherited by the derived class. To invoke it, we have to use the __ init __ of the super() object inside the derived class.\n"
   ]
  },
  {
   "cell_type": "code",
   "execution_count": 36,
   "metadata": {},
   "outputs": [],
   "source": [
    "class A:\n",
    "    a = 1\n",
    "    def __init__(self):\n",
    "        print(\"A\")\n",
    "class B(A):\n",
    "    b = 1\n",
    "    def __init__(self):\n",
    "        # super().__init__()\n",
    "        print(\"B\")"
   ]
  },
  {
   "cell_type": "code",
   "execution_count": 37,
   "metadata": {},
   "outputs": [
    {
     "name": "stdout",
     "output_type": "stream",
     "text": [
      "B\n"
     ]
    }
   ],
   "source": [
    "b = B()"
   ]
  },
  {
   "cell_type": "code",
   "execution_count": 40,
   "metadata": {},
   "outputs": [],
   "source": [
    "class A:\n",
    "    a = 1\n",
    "    def __init__(self):\n",
    "        print(\"A\")\n",
    "class B(A):\n",
    "    b = 1\n",
    "    def __init__(self):\n",
    "        super().__init__()\n",
    "        print(\"B\")"
   ]
  },
  {
   "cell_type": "code",
   "execution_count": 41,
   "metadata": {},
   "outputs": [
    {
     "name": "stdout",
     "output_type": "stream",
     "text": [
      "A\n",
      "B\n"
     ]
    }
   ],
   "source": [
    "b = B()"
   ]
  },
  {
   "cell_type": "code",
   "execution_count": null,
   "metadata": {},
   "outputs": [],
   "source": []
  }
 ],
 "metadata": {
  "kernelspec": {
   "display_name": "Python 3",
   "language": "python",
   "name": "python3"
  },
  "language_info": {
   "codemirror_mode": {
    "name": "ipython",
    "version": 3
   },
   "file_extension": ".py",
   "mimetype": "text/x-python",
   "name": "python",
   "nbconvert_exporter": "python",
   "pygments_lexer": "ipython3",
   "version": "3.8.5"
  }
 },
 "nbformat": 4,
 "nbformat_minor": 4
}
